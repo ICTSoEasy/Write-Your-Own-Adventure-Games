{
 "cells": [
  {
   "cell_type": "code",
   "execution_count": 1,
   "metadata": {},
   "outputs": [
    {
     "name": "stdout",
     "output_type": "stream",
     "text": [
      "\n"
     ]
    }
   ],
   "source": [
    "'''\n",
    "Based on the Usborne book \"Write your own adventure programmes for your microcomputer\"\n",
    "Original book by J. Tyler & L. Howarth, (c) 1983\n",
    "This code is as direct an implementation as possible while converting from largely\n",
    "BBC BASIC into Python via Jupyter Notebooks\n",
    "\n",
    "HAUNTED HOUSE ADVENTURE\n",
    "'''\n",
    "print()"
   ]
  },
  {
   "cell_type": "code",
   "execution_count": 2,
   "metadata": {},
   "outputs": [
    {
     "name": "stdout",
     "output_type": "stream",
     "text": [
      "\n"
     ]
    }
   ],
   "source": [
    "'''\n",
    "PROGRESS LOG\n",
    "1. Created subroutines for each identified section in the original code\n",
    "2. Created the section of the program which initialises variables and \n",
    "   calls initialisation. Made the decision to use lowercase variable names\n",
    "   (original is all caps) for clarity. No doubt this will come back to haunt\n",
    "   me in the future!\n",
    "'''\n",
    "print()"
   ]
  },
  {
   "cell_type": "code",
   "execution_count": 41,
   "metadata": {},
   "outputs": [],
   "source": [
    "def descriptionAndFeedback():\n",
    "    global m #needed as all(?) variables in BASIC (at least in this program) are global\n",
    "    #CLS - clear screen - may or may not work in Jupyter but will leave out for noow\n",
    "    print('HAUNTED HOUSE')\n",
    "    print('-------------')\n",
    "    print('YOUR LOCATION')\n",
    "    print(d[rm])\n",
    "    print('EXITS: ',end='')\n",
    "    for i in range(0,len(r[rm])): #Replaces the MID - and had to start at 0\n",
    "        print(r[rm][i:i+1],end='')\n",
    "        if i != len(r[rm])-1:\n",
    "            print(', ',end='') #brackets and spaces between exits\n",
    "\n",
    "    print()\n",
    "    for i in range(1,g):\n",
    "        if(l[i]==rm and f[i]==0): #Looks to see if any visible objects are here\n",
    "            print('YOU CAN SEE',o[i],'HERE')\n",
    "    print('=========================')\n",
    "    print(m)\n",
    "    m = 'WHAT' #WHAT is set at the start oof each go"
   ]
  },
  {
   "cell_type": "code",
   "execution_count": 4,
   "metadata": {},
   "outputs": [],
   "source": [
    "def inputAndOutputAnalysis():\n",
    "    pass"
   ]
  },
  {
   "cell_type": "code",
   "execution_count": 5,
   "metadata": {},
   "outputs": [],
   "source": [
    "def errorMessagesAndOverrideConditions():\n",
    "    pass"
   ]
  },
  {
   "cell_type": "code",
   "execution_count": 6,
   "metadata": {},
   "outputs": [],
   "source": [
    "def branchToSubroutines():\n",
    "    pass"
   ]
  },
  {
   "cell_type": "code",
   "execution_count": 7,
   "metadata": {},
   "outputs": [],
   "source": [
    "def verb1():\n",
    "    pass"
   ]
  },
  {
   "cell_type": "code",
   "execution_count": 8,
   "metadata": {},
   "outputs": [],
   "source": [
    "def verb2():\n",
    "    pass"
   ]
  },
  {
   "cell_type": "code",
   "execution_count": 9,
   "metadata": {},
   "outputs": [],
   "source": [
    "def verbs3to9():\n",
    "    pass"
   ]
  },
  {
   "cell_type": "code",
   "execution_count": 10,
   "metadata": {},
   "outputs": [],
   "source": [
    "def verbs10and11():\n",
    "    pass"
   ]
  },
  {
   "cell_type": "code",
   "execution_count": 11,
   "metadata": {},
   "outputs": [],
   "source": [
    "def verb12():\n",
    "    pass"
   ]
  },
  {
   "cell_type": "code",
   "execution_count": 12,
   "metadata": {},
   "outputs": [],
   "source": [
    "def verb13():\n",
    "    pass"
   ]
  },
  {
   "cell_type": "code",
   "execution_count": 13,
   "metadata": {},
   "outputs": [],
   "source": [
    "def verb14():\n",
    "    pass"
   ]
  },
  {
   "cell_type": "code",
   "execution_count": 14,
   "metadata": {},
   "outputs": [],
   "source": [
    "def verb15():\n",
    "    pass"
   ]
  },
  {
   "cell_type": "code",
   "execution_count": 15,
   "metadata": {},
   "outputs": [],
   "source": [
    "def verb16():\n",
    "    pass"
   ]
  },
  {
   "cell_type": "code",
   "execution_count": 16,
   "metadata": {},
   "outputs": [],
   "source": [
    "def verb17():\n",
    "    pass"
   ]
  },
  {
   "cell_type": "code",
   "execution_count": 17,
   "metadata": {},
   "outputs": [],
   "source": [
    "def verb18():\n",
    "    pass"
   ]
  },
  {
   "cell_type": "code",
   "execution_count": 18,
   "metadata": {},
   "outputs": [],
   "source": [
    "def verb19():\n",
    "    pass"
   ]
  },
  {
   "cell_type": "code",
   "execution_count": 19,
   "metadata": {},
   "outputs": [],
   "source": [
    "def verb20():\n",
    "    pass"
   ]
  },
  {
   "cell_type": "code",
   "execution_count": 20,
   "metadata": {},
   "outputs": [],
   "source": [
    "def verb21():\n",
    "    pass"
   ]
  },
  {
   "cell_type": "code",
   "execution_count": 21,
   "metadata": {},
   "outputs": [],
   "source": [
    "def verb22():\n",
    "    pass"
   ]
  },
  {
   "cell_type": "code",
   "execution_count": 22,
   "metadata": {},
   "outputs": [],
   "source": [
    "def verb23():\n",
    "    pass"
   ]
  },
  {
   "cell_type": "code",
   "execution_count": 23,
   "metadata": {},
   "outputs": [],
   "source": [
    "def verb24():\n",
    "    pass"
   ]
  },
  {
   "cell_type": "code",
   "execution_count": 24,
   "metadata": {},
   "outputs": [],
   "source": [
    "def verb25():\n",
    "    pass"
   ]
  },
  {
   "cell_type": "code",
   "execution_count": 25,
   "metadata": {},
   "outputs": [],
   "source": [
    "def initialisation():\n",
    "    #DIMR$(63) - another unknown variable - this time arrays of strings. \n",
    "    #63 is the end index, not including 0. Looks like for counts are 1 to x\n",
    "    #Initialised to '' as that is what happened in BBC BASIC. \n",
    "    #Made global to match original code\n",
    "    global r,d,o,v,v_,c,l,f,ll,rm,m\n",
    "    r = ['']*64 #Routes\n",
    "    d = ['']*64 #Room descriptions\n",
    "    o = ['']*w\n",
    "    v_ = v #this is not original, but V and V$ are serperate - mad BASIC! So v_ is the number one\n",
    "    v = ['']*v\n",
    "    #Numerical arrays in BASIC were initialised to 0\n",
    "    c = [0]*w\n",
    "    l = [0]*g\n",
    "    f = [0]*w\n",
    "    #BASIC is weird the way it fills up arrays! Think I've got this right,\n",
    "    #leaves the index 0 as... well 0.\n",
    "    data = [46,38,35,50,13,18,28,42,10,25,26,4,2,7,47,60,43,32]\n",
    "    for i in range(1,g):\n",
    "        l[i] = data[i]\n",
    "    data = ['HELP','CARRYING?','GO','N','S','W','E','U','D','GET','TAKE','OPEN','EXAMINE',\n",
    "            'READ','SAY','DIG','SWING','CLIMB','LIGHT','UNLIGHT','SPRAY','USE','UNLOCK',\n",
    "            'LEAVE','SCORE']\n",
    "    for i in range(1,v_):\n",
    "        v[i] = data[i],\n",
    "    data = ['SE','WE','WE','SWE','WE','WE','SWE','WS','NS','SE','WE','NW','SE','W','NE','NSW',\n",
    "            'NS','NS','SE','WE','NWUD','SE','WSUD','NS','N','NS','NSE','WE','WE','NSW','NS','NS',\n",
    "            'S','NSE','NSW','S','NSUD','N','N','NS','NE','NW','NE','W','NSE','WE','W','NS',\n",
    "            'SE','NSW','E','WE','NW','S','SW','NW ','NE','NWE','WE','WE','WE','NWE','NWE','W']\n",
    "    for i in range(0,64): #original is 63, but odd indexes and all\n",
    "        r[i] = data[i]\n",
    "    data = ['DARK CORNER','OVERGROWN GARDEN','BY LARGE WOODPILE','YARD BY RUBBISH','WEEDPATCH',\n",
    "            'FOREST','THICK FOREST','BLASTED TREE','CORNER OF HOUSE','ENTRANCE TO KITCHEN',\n",
    "            'KITCHEN & GRIMY COOKER','SCULLERY DOOR','ROOM WITH INCHES OF DUST','REAR TURRET ROOM',\n",
    "            'CLEARING BY HOUSE','PATH','SIDE OF HOUSE','BACK OF HALLWAY','DARK ALCOVE','SMALL DARK ROOM',\n",
    "            'BOTTOM OF SPIRAL STAIRCASE','WIDE PASSAGE','SLIPPERY STEPS','CLIFFTOP','NEAR CRUMBLING WALL',\n",
    "            'GLOOMY PASSAGE','POOL OF LIGHT','IMPRESSIVE VAULTED HALLWAY','HALL BY THICK WOODEN DOOR',\n",
    "            'TROPHY ROOM','CELLAR WITH BARRED WINDOW','CLIFF PATH','CUPBOARD WITH HANGING COAT','FRONT HALL',\n",
    "            'SITTING ROOM','SECRET ROOM','STEEP MARBLE STAIRS','DINING ROOM','DEEP CELLAR WITH COFFIN',\n",
    "            'CLIFF PATH','CLOSET','FRONT LOBBY','LIBRARY OF EVIL BOOKS','STUDY WITH DESK & HOLE IN WALL',\n",
    "            'WEIRD COBWEBBY ROOM','VERY COLD CHAMBER','SPOOKY ROOM','CLIFF PATH BY MARSH',\n",
    "            'RUBBLE-STREWN VERANDAH','FRONT PORCH','FRONT TOWER','SLOPING CORRIDOR','UPPER GALLERY',\n",
    "            'MARSH BY WALL','MARSH','SOGGY PATH','BY TWISTED RAILING','PATH THROUGH IRON GATE','BY RAILINGS',\n",
    "            'BENEATH FRON TOWER','DEBRIS FROM CURMBLING FACADE','LARGE FALLEN BRICKWORK','ROTTING STONE ARCH',\n",
    "            'CRUMBLING CLIFFTOP']\n",
    "    for i in range(0,64): #again, original was 63\n",
    "        d[i] = data[i]\n",
    "    data = ['PAINTING','RING','MAGIC SPELLS','GOBLET','SCROLL','COINS','STATUE','CANDLESTICK','MATCHES',\n",
    "            'VACUUM','BATTERIES','SHOVEL','AXE','ROPE','BOAT','AEROSOL','CANDLE','KEY','NORTH','SOUTH',\n",
    "            'WEST','EAST','UP','DOWN','DOOR','BATS','GHOSTS','DRAWER','DESK','COAT','RUBBISH','COFFIN',\n",
    "            'BOOKS','XZANFAR','WALL','SPELLS']\n",
    "    for i in range(0,w): #original was 1 to w - but that missed PAINTING...\n",
    "        o[i] = data[i]\n",
    "    f[18],f[17],f[2],f[26],f[28],f[23]=1,1,1,1,1,1\n",
    "    ll=60\n",
    "    rm=57 #Location index of the player\n",
    "    m='OK'\n",
    "    return #Not really needed in Python - but for now we're staying true! \n",
    "    #looks like it 'returns' to the start of description and feedback"
   ]
  },
  {
   "cell_type": "code",
   "execution_count": 42,
   "metadata": {},
   "outputs": [
    {
     "name": "stdout",
     "output_type": "stream",
     "text": [
      "HAUNTED HOUSE\n",
      "-------------\n",
      "YOUR LOCATION\n",
      "PATH THROUGH IRON GATE\n",
      "EXITS: N, W, E\n",
      "=========================\n",
      "OK\n"
     ]
    }
   ],
   "source": [
    "'''\n",
    "Main Program Call\n",
    "In the original program this corresponds to lines 70+80\n",
    "to declare variables and GOSUB the initialisation routine\n",
    "''' \n",
    "#Initialise variables - these should be constants really!\n",
    "v = 25 #Number of verbs\n",
    "w = 36 #Number of object words\n",
    "g = 18 #Number of 'gettable object'\n",
    "initialisation() #Call initialisation function - originally GOSUB 1600\n",
    "descriptionAndFeedback() #Call descriptionAndFeedback function - actually it just 'runs on' to this code."
   ]
  },
  {
   "cell_type": "code",
   "execution_count": null,
   "metadata": {},
   "outputs": [],
   "source": []
  }
 ],
 "metadata": {
  "kernelspec": {
   "display_name": "Python 3",
   "language": "python",
   "name": "python3"
  },
  "language_info": {
   "codemirror_mode": {
    "name": "ipython",
    "version": 3
   },
   "file_extension": ".py",
   "mimetype": "text/x-python",
   "name": "python",
   "nbconvert_exporter": "python",
   "pygments_lexer": "ipython3",
   "version": "3.7.1"
  }
 },
 "nbformat": 4,
 "nbformat_minor": 2
}
