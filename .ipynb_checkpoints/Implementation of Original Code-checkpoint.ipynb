{
 "cells": [
  {
   "cell_type": "code",
   "execution_count": null,
   "metadata": {
    "hide_input": true
   },
   "outputs": [],
   "source": [
    "'''\n",
    "Based on the Usborne book \"Write your own adventure programmes for your microcomputer\"\n",
    "Original book by J. Tyler & L. Howarth, (c) 1983\n",
    "This code is as direct an implementation as possible while converting from largely\n",
    "BBC BASIC into Python via Jupyter Notebooks\n",
    "\n",
    "HAUNTED HOUSE ADVENTURE\n",
    "'''\n",
    "print()"
   ]
  },
  {
   "cell_type": "code",
   "execution_count": null,
   "metadata": {},
   "outputs": [],
   "source": [
    "'''\n",
    "PROGRESS LOG\n",
    "1. Created subroutines for each identified section in the original code\n",
    "2. Created the section of the program which initialises variables and \n",
    "   calls initialisation. Made the decision to use lowercase variable names\n",
    "   (original is all caps) for clarity. No doubt this will come back to haunt\n",
    "   me in the future!\n",
    "3. Created section which deals with description and feedback\n",
    "4. Created section which deals with input and input analysis. Renamed \n",
    "   inputAndInputAnalysis to the correct thing (oops!) Updated the progress log (oops!)\n",
    "   Fixed some issues with list boundaries in initialisation - fairly sure this will \n",
    "   rear its ugly head again. Also fixed a problem in verb list creation where a rogue\n",
    "   comma was causing tuples rather than strings!\n",
    "5. Created the section which deals with error messages and override conditions. \n",
    "   This does a bunch of IF statements to change the vb (verb number) if neccesary,\n",
    "   and change the message waiting to be output to the user, preparing for \n",
    "   branching to a bunch of subroutines (which we will need to do as ELIF statements)\n",
    "   Had to put a loop in around the main calls which condition is returned from the \n",
    "   error/override routine (and in turn from branching routine) to get around the lack\n",
    "   of GOTOs.\n",
    "6. Implemented the branching logic. Bug fixing due to things not being globalised\n",
    "   and wrong use of v/v_.\n",
    "7. Implemented Verb1, HELP\n",
    "8. Implemented Verb2, CARRYING?. Bug fix on Verb1 (end point of loop needed +1).\n",
    "   Hid a bunch of cells not under current/future development as notebook getting long!\n",
    "9. Implemented Verbs 3-9, GO, N, S, W, E, U, D. Amended branchToSubroutines to take \n",
    "   into account multiple verbs being dealth with in one subroutine! Had to amend integer\n",
    "   d in this subroutine to d_ - BASIC!!! Fixed typo in description of front tower. Fixed\n",
    "   bug in initialisation that put items in the wrong place. Indexing!\n",
    "10. Implemented Verbs 10-11, GET and TAKE.\n",
    "11. Implemented Verb 12, OPEN. Removed debug output from Verbs3to9. Implemented CLS as \n",
    "    was getting annoying.\n",
    "12. Implemented Verb 13, EXAMINE.\n",
    "13. Implemented Verb 14, READ.\n",
    "14. Implemented Verb 15, SAY.\n",
    "15. Implemented Verb 16, DIG.\n",
    "16. Implemented Verb 17, SWING.\n",
    "17. Implemented Verb 18, CLIMB.\n",
    "18. Implemented Verb 19, LIGHT.\n",
    "19. Implemented Verb 20, UNLIGHT.\n",
    "20. Implemented Verb 21, SPRAY. Tested and got confused until I remembered bats attack \n",
    "    randomly when you try and do things in that room.\n",
    "21. Implemented Verb 22, USE.\n",
    "'''\n",
    "print()"
   ]
  },
  {
   "cell_type": "code",
   "execution_count": null,
   "metadata": {
    "hide_input": true
   },
   "outputs": [],
   "source": [
    "def descriptionAndFeedback():\n",
    "    global m #needed as all(?) variables in BASIC (at least in this program) are global\n",
    "    clear_output() #CLS - may or may not work in Jupyter but will leave out for now\n",
    "    print('HAUNTED HOUSE')\n",
    "    print('-------------')\n",
    "    print('YOUR LOCATION')\n",
    "    print(d[rm])\n",
    "    print('EXITS: ',end='')\n",
    "    for i in range(0,len(r[rm])): #Replaces the MID - and had to start at 0\n",
    "        print(r[rm][i:i+1],end='')\n",
    "        if i != len(r[rm])-1:\n",
    "            print(', ',end='') #brackets and spaces between exits\n",
    "\n",
    "    print()\n",
    "    for i in range(1,g):\n",
    "        if(l[i]==rm and f[i]==0): #Looks to see if any visible objects are here\n",
    "            print('YOU CAN SEE',o[i],'HERE')\n",
    "    print('=========================')\n",
    "    print(m)\n",
    "    m = 'WHAT' #WHAT is set at the start of each go"
   ]
  },
  {
   "cell_type": "code",
   "execution_count": null,
   "metadata": {
    "hide_input": true
   },
   "outputs": [],
   "source": [
    "def inputAndInputAnalysis():\n",
    "    global w_,v_ #global integers - array counts\n",
    "    global w, v #words, verb list\n",
    "    global vb, ob #verb, object\n",
    "    q = input('WHAT WILL YOU DO NOW? ')#I added a question mark. Just cos.\n",
    "    verb = '' #had to replace v with verb, as global v is v$ (list of strings)\n",
    "    w = ''\n",
    "    vb = 0\n",
    "    ob = 0\n",
    "    for i in range(0,len(q)): #Had to change 1 index to 0 - go through all of q\n",
    "        #Goes through q until it finds a space; if verb is empty, put the word into verb\n",
    "        if q[i:i+1]==' ' and verb=='': #Replaces a MID \n",
    "            verb = q[0:i] #Replaces a LEFT - -1 not needed as different indexes\n",
    "            #print ('word',verb,'found') #debugging - not in original\n",
    "        #looks for a letter *after* a space (ie the rest of a line) and puts in w\n",
    "        if q[i+1:i+2]!=' ' and verb!='':\n",
    "            w = q[i+1:len(q)] #debugging - not in original\n",
    "            #print('rest of line',w,'found')\n",
    "            break #replaces i = len(q) to jump out of the loop\n",
    "    #print('verb',verb) #debugging - not in original\n",
    "    #print('w',w) #debugging - not in original\n",
    "    #No gap found, so they only wrote one word. Copy it into verb\n",
    "    if w == '':\n",
    "        verb=q\n",
    "    #Loop around the number of verbs I know about\n",
    "    for i in range(0,v_-1):\n",
    "        if verb == v[i]:\n",
    "            vb = i\n",
    "    #print('verb found at',vb) #debugging - not in original\n",
    "    #Loop around the number of objects I know about\n",
    "    #print('looking for',w)#debugging - not in original\n",
    "    for i in range(0,w_):\n",
    "        #print(o[i]) #debugging - not in original\n",
    "        if w == o[i]:\n",
    "            ob=i\n",
    "    #print('object found at',ob)#debugging - not in original\n",
    "        \n"
   ]
  },
  {
   "cell_type": "code",
   "execution_count": null,
   "metadata": {
    "hide_input": true
   },
   "outputs": [],
   "source": [
    "def errorMessagesAndOverrideConditions():\n",
    "    global w,ob,m,vb,v,o,w,c,f,rm,ll #Think that's everything!\n",
    "    #print(vb,'<',v_,'&&',ob,'> 0','&&',c[ob],'== 0') #debug - not in original\n",
    "    if (w != '' and ob == 0): #was w>'' = inequality seems to make more sense!\n",
    "        m = \"THAT'S SILLY\" #checks if only one word was entered, and object is not found.m may change later\n",
    "    if (vb == 0): #Apparently this is to fix a BASIC GOSUB problem wherein it can't\n",
    "        vb = v_+1 #jump on 0, so sets to a 'too large' number and jumps to a dummy sub\n",
    "    if (w == ''): #Only a single word entered\n",
    "        m = 'I NEED TWO WORDS'\n",
    "    if (vb > v_ and ob > 0):#Has the object, but no verb\n",
    "        m = \"YOU CAN'T '\"+q+\"'\"\n",
    "    if (vb > v_ and ob == 0):#No object, no verb\n",
    "        m = \"YOU DON'T MAKE SENSE!\"\n",
    "    if (vb < v_ and ob > 0 and c[ob] == 0):#verb, no object\n",
    "        m = \"YOU DON'T HAVE '\"+w+\"'\"\n",
    "    #Bats are present, player is in Rear Turret Room, random number not 3 and \n",
    "    #SPRAY not used in instruction then bats attack, don't go any further\n",
    "    if (f[26] == 1 and rm == 13 and randint(1,3) != 3 and vb != 21):\n",
    "        m=\"BATS ATTACKING!\"\n",
    "        return True #equivalent of goto 90. No GOTOs and want too avoid recursive calls!\n",
    "    #Player is in Cobwebby Room, random value is 1, Vacuum is OFF, then paralysing ghosts\n",
    "    #appear (f[27] set to 1)\n",
    "    if (rm == 44 and randint(1,2) == 1 and f[24] != 1):\n",
    "        f[27] = 1\n",
    "    #If candle is lit, then light limit counter is decremented by 1\n",
    "    if (f[0]==1):\n",
    "        ll=ll-1\n",
    "    #if light limit counter is 0, candle on/off flag set to 0\n",
    "    if (ll<1):\n",
    "        f[0] = 0\n",
    "    return branchToSubroutines() #Moves on to branchToSubroutines - returns back to main loop; this is \n",
    "                                 #trying to duplicate the functionality of the original"
   ]
  },
  {
   "cell_type": "code",
   "execution_count": null,
   "metadata": {
    "hide_input": true
   },
   "outputs": [],
   "source": [
    "def branchToSubroutines():\n",
    "    if vb == 1:\n",
    "        returnValue = verb1()\n",
    "    elif vb == 2:\n",
    "        returnValue = verb2()\n",
    "    elif vb in [3,4,5,6,7,8,9]:\n",
    "        returnValue = verbs3to9()\n",
    "    elif vb in [10,11]:\n",
    "        returnValue = verbs10and11()\n",
    "    elif vb == 11:\n",
    "        returnValue = verb11()\n",
    "    elif vb == 12:\n",
    "        returnValue = verb12()\n",
    "    elif vb == 13:\n",
    "        returnValue = verb13()\n",
    "    elif vb == 14:\n",
    "        returnValue = verb14()\n",
    "    elif vb == 15:\n",
    "        returnValue = verb15()\n",
    "    elif vb == 16:\n",
    "        returnValue = verb16()\n",
    "    elif vb == 17:\n",
    "        returnValue = verb17()\n",
    "    elif vb == 18:\n",
    "        returnValue = verb18()\n",
    "    elif vb == 19:\n",
    "        returnValue = verb19()\n",
    "    elif vb == 20:\n",
    "        returnValue = verb20()\n",
    "    elif vb == 21:\n",
    "        returnValue = verb21()\n",
    "    elif vb == 22:\n",
    "        returnValue = verb22()\n",
    "    elif vb == 23:\n",
    "        returnValue = verb23()\n",
    "    elif vb == 24:\n",
    "        returnValue = verb24()\n",
    "    elif vb == 25:\n",
    "        returnValue = verb25()\n",
    "    #light level getting low\n",
    "    if (ll == 10):\n",
    "        m = \"YOUR CANDLE IS WANING\"\n",
    "    #light level too low\n",
    "    if (ll == 1):\n",
    "        m = \"YOUR CANDLE IS OUT\"\n",
    "    return returnValue #equivalent to GOTO90"
   ]
  },
  {
   "cell_type": "code",
   "execution_count": null,
   "metadata": {
    "hide_input": true
   },
   "outputs": [],
   "source": [
    "def verb1():\n",
    "    global v_,v,m,q\n",
    "    #List all the verbs\n",
    "    print('WORDS I KNOW:')\n",
    "    for i in range(1,v_+1):\n",
    "        print(v[i],end = ', ')\n",
    "    m = \"\"\n",
    "    print()\n",
    "    q = input('PRESS RETURN TO CONTINUE') #would be GOTO 1580, but that's hassle, easier to reproduce!\n",
    "    return True"
   ]
  },
  {
   "cell_type": "code",
   "execution_count": null,
   "metadata": {
    "hide_input": true
   },
   "outputs": [],
   "source": [
    "def verb2():\n",
    "    global g,c,m,o,q\n",
    "    print ('YOU ARE CARRYING')\n",
    "    for i in range (1,g+1):\n",
    "        if c[i] == 1:\n",
    "            print(o[i],end=', ')\n",
    "    m = ''\n",
    "    print()\n",
    "    q = input('PRESS RETURN TO CONTINUE') #would be GOTO 1580, but that's hassle, easier to reproduce!\n",
    "    return True"
   ]
  },
  {
   "cell_type": "code",
   "execution_count": null,
   "metadata": {
    "hide_input": true
   },
   "outputs": [],
   "source": [
    "def verbs3to9():\n",
    "    global d,d_,ob,vb,rm,f,m,c,rl,u,r #added d_ for integer d\n",
    "    d_ = 0\n",
    "    if (ob == 0):\n",
    "        d_ = vb-3\n",
    "    if (ob == 19):\n",
    "        d_ = 1\n",
    "    if (ob == 20):\n",
    "        d_ = 2\n",
    "    if (ob == 21):\n",
    "        d_ = 3\n",
    "    if (ob == 22):\n",
    "        d_ = 4\n",
    "    if (ob == 23):\n",
    "        d_ = 5\n",
    "    if (ob == 24):\n",
    "        d_ = 6\n",
    "    if (rm == 20 and d_ == 5):\n",
    "        d_ = 1\n",
    "    if (rm == 20 and d_ == 6):\n",
    "        d_ = 3\n",
    "    if (rm == 22 and d_ == 6):\n",
    "        d_ = 2\n",
    "    if (rm == 22 and d_ == 5):\n",
    "        d_ = 3\n",
    "    if (rm == 36 and d_ == 6):\n",
    "        d_ = 1\n",
    "    if (rm == 36 and d_ == 5):\n",
    "        d_ = 2\n",
    "    if (f[14] == 1): #flag 14 is a rope for the tree apparently!\n",
    "        m = \"CRASH! YOU FELL OUT OF THE TREE!\"\n",
    "        f[14] = 0\n",
    "        return True\n",
    "    if (f[27] == 1 and rm == 52): #flag 27 is whatever defeats paralysing ghosts\n",
    "        m = \"GHOSTS WILL NOT LET YOU MOVE\"\n",
    "        return True\n",
    "    if (rm == 45 and c[1] == 1 and f[34] == 0): #this is a one-way barrier. Need \n",
    "        #to be carrying painting and whatever flag 34 is needs to be 0\n",
    "        m = \"A MAGICAL BARRIER TO THE WEST\"\n",
    "        return True\n",
    "    if (rm == 26 and f[0]==0 and (d_ == 1 or d_ == 4)):#prob something about too dark?\n",
    "        m = \"YOU NEED A LIGHT\"\n",
    "        return True\n",
    "    if (rm == 54 and c[15] != 1): #Something about being stuck - this is a marsh\n",
    "        m = \"YOU'RE STUCK!\"\n",
    "        return True\n",
    "    if (c[15] == 1 and not (rm == 53 or rm == 54 or rm == 55 or rm == 47)):\n",
    "        m = \"YOU CAN'T CARRY A BOAT!\"\n",
    "        return True\n",
    "    if (rm > 26 and rm < 30 and f[0] == 0): #Must be a dark place!\n",
    "        m = \"TOO DARK TO MOVE\"\n",
    "        return True\n",
    "    f[35] = 0 #initialise cannot move flag\n",
    "    rl = len(r[rm]) #r is the directions this room has out\n",
    "    print('R:',r[rm])\n",
    "    for i in range(0,rl):\n",
    "        u = r[rm][i:i+1] #adjusted - replaces MID to run through each direction\n",
    "        if (u == 'N' and d_ == 1 and f[35] == 0):\n",
    "            rm = rm - 8\n",
    "            f[35] = 1\n",
    "        if (u == 'S' and d_ == 2 and f[35] == 0):\n",
    "            rm = rm + 8\n",
    "            f[35] = 1\n",
    "        if (u == 'W' and d_ == 3 and f[35] == 0):\n",
    "            rm = rm - 1\n",
    "            f[35] = 1\n",
    "        if (u == 'E' and d_ == 4 and f[35] == 0):\n",
    "            rm = rm + 1\n",
    "            f[35] = 1\n",
    "    m = 'OK'\n",
    "    if (f[35] == 0):\n",
    "        m = \"CAN'T GO THAT WAY!\"\n",
    "    if (d_ < 1):\n",
    "        m = \"GO WHERE?\"\n",
    "    if (rm == 41 and f[23] == 1):\n",
    "        r[49] = \"SW\"\n",
    "        m = \"THE DOOR SLAMS SHUT!\"\n",
    "        f[23] = 0\n",
    "    return True"
   ]
  },
  {
   "cell_type": "code",
   "execution_count": null,
   "metadata": {
    "hide_input": true
   },
   "outputs": [],
   "source": [
    "def verbs10and11():\n",
    "    global ob,g,m,w,l,rm,f,c\n",
    "    if (ob > g):\n",
    "        m = \"I CAN'T GET \"+w\n",
    "        return True\n",
    "    if (l[ob] != rm):\n",
    "        m = \"IT ISN'T HERE\"\n",
    "    if (f[ob] != 0):\n",
    "        m = \"WHAT \"+w+\"?\"\n",
    "    if (c[ob] == 1):\n",
    "        m = \"YOU ALREADY HAVE IT\"\n",
    "    if (ob > 0 and l[ob] == rm and f[ob] == 0):\n",
    "        c[ob] = 1\n",
    "        l[ob] = 65\n",
    "        m = \"YOU HAVE THE \"+w\n",
    "    return True"
   ]
  },
  {
   "cell_type": "code",
   "execution_count": null,
   "metadata": {
    "hide_input": true
   },
   "outputs": [],
   "source": [
    "def verb12():\n",
    "    global rm,ob,f,m\n",
    "    if (rm == 43 and (ob == 28 or ob == 29)):\n",
    "        f[17] = 0\n",
    "        m = \"DRAWER OPEN\"\n",
    "    if (rm == 28 and ob == 25):\n",
    "        m = \"IT'S LOCKED\"\n",
    "    if (rm == 38 and ob == 32):\n",
    "        m = \"THAT'S CREEPY!\"\n",
    "        f[2] = 0\n",
    "    return True"
   ]
  },
  {
   "cell_type": "code",
   "execution_count": null,
   "metadata": {
    "hide_input": true
   },
   "outputs": [],
   "source": [
    "def verb13():\n",
    "    global ob,f,m,rm\n",
    "    if (ob == 30):\n",
    "        f[18] = 0\n",
    "        m = \"SOMETHING HERE!\"\n",
    "    if (ob == 31):\n",
    "        m = \"THAT'S DISGUSTING!\"\n",
    "    if (ob == 28 or ob == 29):\n",
    "        m = \"THERE IS A DRAWER\"\n",
    "    if (ob == 33 or ob == 5):\n",
    "        return verb14() #jump to verb14, READ\n",
    "    if (rm == 43 and ob == 35):\n",
    "        m = \"THERE IS SOMETHING BEYOND...\"\n",
    "    if (ob == 32):\n",
    "        return verb12() #jump to verb12, OPEN\n",
    "    return True"
   ]
  },
  {
   "cell_type": "code",
   "execution_count": null,
   "metadata": {
    "hide_input": true
   },
   "outputs": [],
   "source": [
    "def verb14():\n",
    "    global ob,f,c,m,rm\n",
    "    if (rm == 42 and ob == 33):\n",
    "        m = \"THEY ARE DEMONIC WORKS\"\n",
    "    if ((ob == 3 or ob == 36) and c[3] == 1 and f[34] == 0):\n",
    "        m = \"USE THIS WORD WITH CARE 'XZANFAR'\"\n",
    "    if (c[5] == 1 and ob == 5):\n",
    "        m = \"THE SCRIPT IS IN AN ALIEN TONGUE\"\n",
    "    return True"
   ]
  },
  {
   "cell_type": "code",
   "execution_count": null,
   "metadata": {
    "hide_input": true
   },
   "outputs": [],
   "source": [
    "def verb15():\n",
    "    global m,w,c,ob,rm,f\n",
    "    m = \"OK '\"+w+\"'\"\n",
    "    if (c[3] == 1 and ob == 34):\n",
    "        m = \"*MAGIC OCCURS*\"\n",
    "        if (rm != 45):\n",
    "            rm = randint(1,63)\n",
    "    if (c[3] == 1 and ob == 34 and rm == 45):\n",
    "        f[34] = 1\n",
    "    return True"
   ]
  },
  {
   "cell_type": "code",
   "execution_count": null,
   "metadata": {
    "hide_input": true
   },
   "outputs": [],
   "source": [
    "def verb16():\n",
    "    global c,m,d,r,rm\n",
    "    if (c[12] == 1):\n",
    "        m = \"YOU MADE A HOLE\"\n",
    "    if (c[12] == 1 and rm == 30):\n",
    "        m = \"DUG THE BARS OUT\"\n",
    "        d[rm] = \"HOLE IN WALL\"\n",
    "        r[rm] = \"NSE\"\n",
    "    return True"
   ]
  },
  {
   "cell_type": "code",
   "execution_count": null,
   "metadata": {
    "hide_input": true
   },
   "outputs": [],
   "source": [
    "def verb17():\n",
    "    global c,rm,ob,m,r,d\n",
    "    if (c[14] != 1 and rm == 7):\n",
    "        m = \"THIS IS NO TIME TO PLAY GAMES\"\n",
    "    if (ob == 14 and c[14] == 1):\n",
    "        m = \"YOU SWUNG IT\"\n",
    "    if (ob == 13 and c[13] == 1):\n",
    "        m = \"WHOOSH\"\n",
    "    if (ob == 13 and c[13] == 1 and rm == 43):\n",
    "        r[rm] = \"WN\"\n",
    "        d[rm] = \"STUDY WITH SECRET ROOM\"\n",
    "        m = \"YOU BROKE THE THIN WALL\"\n",
    "    return True"
   ]
  },
  {
   "cell_type": "code",
   "execution_count": null,
   "metadata": {
    "hide_input": true
   },
   "outputs": [],
   "source": [
    "def verb18():\n",
    "    global ob,c,m,rm,f\n",
    "    if (ob == 14 and c[14] == 1):\n",
    "        m = \"IT ISN'T ATTACHED TO ANYTHING!\"\n",
    "    if (ob == 14 and c[14] != 1 and rm == 7 and f[14] == 0):\n",
    "        m = \"YOU SEE THICK FOREST AND CLIFF SOUTH\"\n",
    "        f[14] = 1\n",
    "        return True\n",
    "    if (ob == 14 and c[14] != 1 and rm == 7 and f[14] == 1):\n",
    "        m = \"GOING DOWN!\"\n",
    "        f[14] = 0\n",
    "    return True"
   ]
  },
  {
   "cell_type": "code",
   "execution_count": null,
   "metadata": {
    "hide_input": true
   },
   "outputs": [],
   "source": [
    "def verb19():\n",
    "    global ob,c,m,f\n",
    "    if (ob == 17 and c[17] == 1 and c[8] == 0):\n",
    "        m = \"IT WILL BURN YOUR HANDS\"\n",
    "    if (ob == 17 and c[17] == 1 and c[9] == 0):\n",
    "        m = \"NOTHING TO LIGHT IT WITH\"\n",
    "    if (ob == 17 and c[17] == 1 and c[9] == 1 and c[8] == 1):\n",
    "        m = \"IT CASTS A FLICKERING LIGHT\"\n",
    "        f[0] = 1\n",
    "    return True"
   ]
  },
  {
   "cell_type": "code",
   "execution_count": null,
   "metadata": {
    "hide_input": true
   },
   "outputs": [],
   "source": [
    "def verb20():\n",
    "    global f,m\n",
    "    if (f[0] == 1):\n",
    "        f[0] = 0\n",
    "        m = \"EXTINGUISHED\"\n",
    "    return True"
   ]
  },
  {
   "cell_type": "code",
   "execution_count": null,
   "metadata": {
    "hide_input": true
   },
   "outputs": [],
   "source": [
    "def verb21(): #Note that you can spray bats regardless of where you are!\n",
    "    print('SPRAYING')\n",
    "    global ob,c,m,f\n",
    "    if (ob == 26 and c[16] == 1):\n",
    "        m = \"HISSSS\"\n",
    "    if (ob == 26 and c[16] == 1 and f[26] == 1):\n",
    "        f[26] = 0\n",
    "        m = \"PFFFT! GOT THEM\"\n",
    "    return True"
   ]
  },
  {
   "cell_type": "code",
   "execution_count": null,
   "metadata": {
    "hide_input": true
   },
   "outputs": [],
   "source": [
    "def verb22(): #Note: no room check, should work anywhere!\n",
    "    global ob,c,m,f\n",
    "    if (ob == 10 and c[10] == 1 and c[11] == 1):\n",
    "        m = \"SWITCHED ON\"\n",
    "        f[24] = 1\n",
    "    if (f[27] == 1 and f[24] == 1):\n",
    "        m = \"WHIZZ - VACUUMED THE GHOSTS UP!\"\n",
    "        f[27] = 0\n",
    "    return True"
   ]
  },
  {
   "cell_type": "code",
   "execution_count": null,
   "metadata": {},
   "outputs": [],
   "source": [
    "def verb23():\n",
    "    pass"
   ]
  },
  {
   "cell_type": "code",
   "execution_count": null,
   "metadata": {},
   "outputs": [],
   "source": [
    "def verb24():\n",
    "    pass"
   ]
  },
  {
   "cell_type": "code",
   "execution_count": null,
   "metadata": {},
   "outputs": [],
   "source": [
    "def verb25():\n",
    "    pass"
   ]
  },
  {
   "cell_type": "code",
   "execution_count": null,
   "metadata": {
    "hide_input": true
   },
   "outputs": [],
   "source": [
    "def initialisation():\n",
    "    #DIMR$(63) - another unknown variable - this time arrays of strings. \n",
    "    #63 is the end index, not including 0. Looks like for counts are 1 to x\n",
    "    #Initialised to '' as that is what happened in BBC BASIC. \n",
    "    #Made global to match original code\n",
    "    global r,d,o,v,v_,c,l,f,ll,rm,m\n",
    "    r = ['']*64 #Routes\n",
    "    d = ['']*64 #Room descriptions\n",
    "    o = ['']*(w_+1) #Objects - +1 BASIC indexing\n",
    "    v = ['']*(v_+1) #Verbs - +1 BASIC indexing\n",
    "    #Numerical arrays in BASIC were initialised to 0\n",
    "    c = [0]*w_\n",
    "    l = [0]*(g+1)\n",
    "    f = [0]*w_\n",
    "    #BASIC is weird the way it fills up arrays! Think I've got this right,\n",
    "    #leaves the index 0 as... well 0.\n",
    "    data = [0,46,38,35,50,13,18,28,42,10,25,26,4,2,7,47,60,43,32]\n",
    "    for i in range(1,g+1):\n",
    "        l[i] = data[i]\n",
    "    #verbs\n",
    "    data = ['','HELP','CARRYING?','GO','N','S','W','E','U','D','GET','TAKE','OPEN','EXAMINE',\n",
    "            'READ','SAY','DIG','SWING','CLIMB','LIGHT','UNLIGHT','SPRAY','USE','UNLOCK',\n",
    "            'LEAVE','SCORE'] #Added the blank at the start - BASIC indexing!\n",
    "    #fill up the verb list\n",
    "    for i in range(1,v_+1):#+1 - BASIC indexing\n",
    "        v[i] = data[i]\n",
    "    #Data for each room?\n",
    "    data = ['SE','WE','WE','SWE','WE','WE','SWE','WS','NS','SE','WE','NW','SE','W','NE','NSW',\n",
    "            'NS','NS','SE','WE','NWUD','SE','WSUD','NS','N','NS','NSE','WE','WE','NSW','NS','NS',\n",
    "            'S','NSE','NSW','S','NSUD','N','N','NS','NE','NW','NE','W','NSE','WE','W','NS',\n",
    "            'SE','NSW','E','WE','NW','S','SW','NW ','NE','NWE','WE','WE','WE','NWE','NWE','W']\n",
    "    for i in range(0,64): #original is 63, but odd indexes and all\n",
    "        r[i] = data[i]\n",
    "    data = ['DARK CORNER','OVERGROWN GARDEN','BY LARGE WOODPILE','YARD BY RUBBISH','WEEDPATCH',\n",
    "            'FOREST','THICK FOREST','BLASTED TREE','CORNER OF HOUSE','ENTRANCE TO KITCHEN',\n",
    "            'KITCHEN & GRIMY COOKER','SCULLERY DOOR','ROOM WITH INCHES OF DUST','REAR TURRET ROOM',\n",
    "            'CLEARING BY HOUSE','PATH','SIDE OF HOUSE','BACK OF HALLWAY','DARK ALCOVE','SMALL DARK ROOM',\n",
    "            'BOTTOM OF SPIRAL STAIRCASE','WIDE PASSAGE','SLIPPERY STEPS','CLIFFTOP','NEAR CRUMBLING WALL',\n",
    "            'GLOOMY PASSAGE','POOL OF LIGHT','IMPRESSIVE VAULTED HALLWAY','HALL BY THICK WOODEN DOOR',\n",
    "            'TROPHY ROOM','CELLAR WITH BARRED WINDOW','CLIFF PATH','CUPBOARD WITH HANGING COAT','FRONT HALL',\n",
    "            'SITTING ROOM','SECRET ROOM','STEEP MARBLE STAIRS','DINING ROOM','DEEP CELLAR WITH COFFIN',\n",
    "            'CLIFF PATH','CLOSET','FRONT LOBBY','LIBRARY OF EVIL BOOKS','STUDY WITH DESK & HOLE IN WALL',\n",
    "            'WEIRD COBWEBBY ROOM','VERY COLD CHAMBER','SPOOKY ROOM','CLIFF PATH BY MARSH',\n",
    "            'RUBBLE-STREWN VERANDAH','FRONT PORCH','FRONT TOWER','SLOPING CORRIDOR','UPPER GALLERY',\n",
    "            'MARSH BY WALL','MARSH','SOGGY PATH','BY TWISTED RAILING','PATH THROUGH IRON GATE','BY RAILINGS',\n",
    "            'BENEATH FRONT TOWER','DEBRIS FROM CURMBLING FACADE','LARGE FALLEN BRICKWORK','ROTTING STONE ARCH',\n",
    "            'CRUMBLING CLIFFTOP']\n",
    "    for i in range(0,64): #again, original was 63\n",
    "        d[i] = data[i]\n",
    "    #objects\n",
    "    data = ['','PAINTING','RING','MAGIC SPELLS','GOBLET','SCROLL','COINS','STATUE','CANDLESTICK','MATCHES',\n",
    "            'VACUUM','BATTERIES','SHOVEL','AXE','ROPE','BOAT','AEROSOL','CANDLE','KEY','NORTH','SOUTH',\n",
    "            'WEST','EAST','UP','DOWN','DOOR','BATS','GHOSTS','DRAWER','DESK','COAT','RUBBISH','COFFIN',\n",
    "            'BOOKS','XZANFAR','WALL','SPELLS'] #Added blank at the start - BASIC indexing!\n",
    "    #fill up the objects list\n",
    "    for i in range(1,w_+1): #+1 - BASIC indexing\n",
    "        o[i] = data[i]\n",
    "    f[18],f[17],f[2],f[26],f[28],f[23]=1,1,1,1,1,1\n",
    "    ll=60\n",
    "    rm=57 #Location index of the player\n",
    "    m='OK'\n",
    "    return #Not really needed in Python - but for now we're staying true! \n",
    "    #looks like it 'returns' to the start of description and feedback"
   ]
  },
  {
   "cell_type": "code",
   "execution_count": null,
   "metadata": {
    "hide_input": false
   },
   "outputs": [],
   "source": [
    "'''\n",
    "Main Program Call\n",
    "In the original program this corresponds to lines 70+80\n",
    "to declare variables and GOSUB the initialisation routine\n",
    "''' \n",
    "#Random number generation is needed\n",
    "from random import randint\n",
    "#Acccess to be able to clear output of cell\n",
    "from IPython.display import clear_output\n",
    "\n",
    "\n",
    "#Initialise variables - these should be constants really!\n",
    "v_ = 25 #Number of verbs - originally V and V$ seen as different - this is V (number)\n",
    "w_ = 36 #Number of object words - originally W and W$ seen as different - this is W (number)\n",
    "g = 18 #Number of 'gettable object'\n",
    "initialisation() #Call initialisation function - originally GOSUB 1600\n",
    "keeprunning = True #Don't use GOTOs so this simulates that by allowing code to run again - equiv of GOTO 90\n",
    "rm = 52#57\n",
    "c[10],c[11] = 1,1\n",
    "while keeprunning:\n",
    "    descriptionAndFeedback() #Call descriptionAndFeedback function - actually it just 'runs on' to this code.\n",
    "    inputAndInputAnalysis() #Call inputAndInputAnalysis function - again it just 'runs on' to it.\n",
    "    keeprunning = errorMessagesAndOverrideConditions() #Call errorMessagesAndOverrideConditioons() - This \n",
    "                    # in turn will call the branching. Returns whether the loop should run again, or stop."
   ]
  },
  {
   "cell_type": "code",
   "execution_count": null,
   "metadata": {},
   "outputs": [],
   "source": []
  }
 ],
 "metadata": {
  "kernelspec": {
   "display_name": "Python 3",
   "language": "python",
   "name": "python3"
  },
  "language_info": {
   "codemirror_mode": {
    "name": "ipython",
    "version": 3
   },
   "file_extension": ".py",
   "mimetype": "text/x-python",
   "name": "python",
   "nbconvert_exporter": "python",
   "pygments_lexer": "ipython3",
   "version": "3.7.1"
  }
 },
 "nbformat": 4,
 "nbformat_minor": 2
}
