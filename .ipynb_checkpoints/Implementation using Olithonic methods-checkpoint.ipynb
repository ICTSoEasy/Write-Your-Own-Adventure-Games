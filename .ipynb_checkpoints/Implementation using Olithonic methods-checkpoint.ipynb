{
 "cells": [
  {
   "cell_type": "code",
   "execution_count": 1,
   "metadata": {},
   "outputs": [
    {
     "name": "stdout",
     "output_type": "stream",
     "text": [
      "\n"
     ]
    }
   ],
   "source": [
    "'''\n",
    "Changelog\n",
    "1. Created a basic 'room' class\n",
    "2. Created a basic 'object' class and a basic 'player' class\n",
    "'''\n",
    "print()"
   ]
  },
  {
   "cell_type": "code",
   "execution_count": 2,
   "metadata": {},
   "outputs": [],
   "source": [
    "class Room:\n",
    "    def __init__(self,id,desc,exits,contains):\n",
    "        self.id = id\n",
    "        self.desc = desc\n",
    "        self.exits = exits\n",
    "        self.contains = contains\n",
    "        \n",
    "    def describe(self):\n",
    "        print (\"HAUNTED HOUSE\")\n",
    "        print (\"-------------\")\n",
    "        print (\"YOUR LOCATION:\",self.desc)\n",
    "        print (\"EXITS:\",\", \".join(self.exits))\n",
    "        contains = []\n",
    "        for c in self.contains:\n",
    "            contains.append(c.desc)\n",
    "        if (contains == []):\n",
    "            contains.append('NOTHING')\n",
    "        print (\"CONTAINS:\",\", \".join(contains))\n"
   ]
  },
  {
   "cell_type": "code",
   "execution_count": 3,
   "metadata": {},
   "outputs": [],
   "source": [
    "class Object:\n",
    "    def __init__(self,id,desc,gettable=False,visible=True):\n",
    "        self.id = id\n",
    "        self.desc = desc\n",
    "        self.gettable = gettable\n",
    "        self.visible = visible\n",
    "        \n",
    "    def moveTo(self,moveToObject):\n",
    "        moveToObject.contains.append(self)\n",
    "        \n",
    "    def get(self,getter):\n",
    "        if self.gettable:\n",
    "            self.moveTo(moveToObject)\n",
    "            print('YOU GET',self.desc)\n",
    "        else:\n",
    "            print('YOU CANNOT GET',self.desc)"
   ]
  },
  {
   "cell_type": "code",
   "execution_count": 4,
   "metadata": {},
   "outputs": [],
   "source": [
    "class Player:\n",
    "    def __init__(self,room,carrying = []):\n",
    "        self.room = room\n",
    "        self.carrying = carrying\n",
    "        \n",
    "    def look(self):\n",
    "        rooms[self.room].describe()\n",
    "        \n",
    "    def move(self,room):\n",
    "        self.room = room"
   ]
  },
  {
   "cell_type": "code",
   "execution_count": 5,
   "metadata": {},
   "outputs": [],
   "source": [
    "def createRooms(rooms):\n",
    "    rooms.append(Room(0,'DARK CORNER',['S','E'],[]))\n",
    "    rooms.append(Room(1,'OVERGROWN GARDEN',['W','E'],[]))\n",
    "    rooms.append(Room(2,'BY LARGE WOODPILE',['W','E'],[]))\n",
    "    rooms.append(Room(3,'YARD BY RUBBISH',['S','W','E'],[]))\n",
    "    rooms.append(Room(4,'WEEDPATCH',['W','E'],[]))\n",
    "    rooms.append(Room(5,'FOREST',['W','E'],[]))\n",
    "    rooms.append(Room(6,'THICK FOREST',['S','W','E'],[]))\n",
    "    rooms.append(Room(7,'BLASTED TREE',['W','S'],[]))\n",
    "    rooms.append(Room(8,'CORNER OF HOUSE',['N','S'],[]))\n",
    "    rooms.append(Room(9,'ENTRANCE TO KITCHEN',['S','E'],[]))\n",
    "    rooms.append(Room(10,'KITCHEN & GRIMY COOKER',['W','E'],[]))\n",
    "    rooms.append(Room(11,'SCULLERY DOOR',['N','W'],[]))\n",
    "    rooms.append(Room(12,'ROOM WITH INCHES OF DUST',['S','E'],[]))\n",
    "    rooms.append(Room(13,'REAR TURRET ROOM',['W'],[]))\n",
    "    rooms.append(Room(14,'CLEARING BY HOUSE',['N','E'],[]))\n",
    "    rooms.append(Room(15,'PATH',['N','S','W'],[]))\n",
    "    rooms.append(Room(16,'SIDE OF HOUSE',['N','S'],[]))\n",
    "    rooms.append(Room(17,'BACK OF HALLWAY',['N','S'],[]))\n",
    "    rooms.append(Room(18,'DARK ALCOVE',['S','E'],[]))\n",
    "    rooms.append(Room(19,'SMALL DARK ROOM',['W','E'],[]))\n",
    "    rooms.append(Room(20,'BOTTOM OF SPIRAL STAIRCASE',['N','W','U','D'],[]))\n",
    "    rooms.append(Room(21,'WIDE PASSAGE',['S','E'],[]))\n",
    "    rooms.append(Room(22,'SLIPPERY STEPS',['W','S','U','D'],[]))\n",
    "    rooms.append(Room(23,'CLIFFTOP',['N','S'],[]))\n",
    "    rooms.append(Room(24,'NEAR CRUMBLING WALL',['N'],[]))\n",
    "    rooms.append(Room(25,'GLOOMY PASSAGE',['N','S'],[]))\n",
    "    rooms.append(Room(26,'POOL OF LIGHT',['N','S','E'],[]))\n",
    "    rooms.append(Room(27,'IMPRESSIVE VAULTED HALLWAY',['W','E'],[]))\n",
    "    rooms.append(Room(28,'HALL BY THICK WOODEN DOOR',['W','E'],[]))\n",
    "    rooms.append(Room(29,'TROPHY ROOM',['N','S','W'],[]))\n",
    "    rooms.append(Room(30,'CELLAR WITH BARRED WINDOW',['N','S'],[]))\n",
    "    rooms.append(Room(31,'CLIFF PATH',['N','S'],[]))\n",
    "    rooms.append(Room(32,'CUPBOARD WITH HANGING COAT',['S'],[]))\n",
    "    rooms.append(Room(33,'FRONT WALL',['N','S','E'],[]))\n",
    "    rooms.append(Room(34,'SITTING ROOM',['N','S','W'],[]))\n",
    "    rooms.append(Room(35,'SECRET ROOM',['S'],[]))\n",
    "    rooms.append(Room(36,'STEEP MARBLE STAIRS',['N','S','U','D'],[]))\n",
    "    rooms.append(Room(37,'DINING ROOM',['N'],[]))\n",
    "    rooms.append(Room(38,'DEEP CELLAR WITH COFFIN',['N'],[]))\n",
    "    rooms.append(Room(39,'CLIFF PATH',['N','S'],[]))\n",
    "    rooms.append(Room(40,'CLOSET',['N','E'],[]))\n",
    "    rooms.append(Room(41,'FRONT LOBBY',['N','W'],[]))\n",
    "    rooms.append(Room(42,'LIBRARY OF EVIL BOOKS',['N','E'],[]))\n",
    "    rooms.append(Room(43,'STUDY WITH DESK & HOLE IN WALL',['W'],[]))\n",
    "    rooms.append(Room(44,'WEIRD COBWEBBY ROOM',['N','S','E'],[]))\n",
    "    rooms.append(Room(45,'VERY COLD CHAMBER',['W','E'],[]))\n",
    "    rooms.append(Room(46,'SPOOKY ROOM',['W'],[]))\n",
    "    rooms.append(Room(47,'CLIFF PATH BY MARSH',['N','S'],[]))\n",
    "    rooms.append(Room(48,'RUBBLE-STREWN VERANDAH',['S','E'],[]))\n",
    "    rooms.append(Room(49,'FRONT PORCH',['N','S','W'],[]))\n",
    "    rooms.append(Room(50,'FRONT TOWER',['E'],[]))\n",
    "    rooms.append(Room(51,'SLOPING CORRIDOR',['W','E'],[]))\n",
    "    rooms.append(Room(52,'UPPER GALLERY',['N','W'],[]))\n",
    "    rooms.append(Room(53,'MARSH BY WALL',['S'],[]))\n",
    "    rooms.append(Room(54,'MARSH',['S','W'],[]))\n",
    "    rooms.append(Room(55,'SOGGY PATH',['N','W'],[]))\n",
    "    rooms.append(Room(56,'BY TWISTED RAILING',['N','E'],[]))\n",
    "    rooms.append(Room(57,'PATH THROUGH IRON GATE',['N','W','E'],[]))\n",
    "    rooms.append(Room(58,'BY RAILINGS',['W','E'],[]))\n",
    "    rooms.append(Room(59,'BENEATH THE FRONT TOWER',['W','E'],[]))\n",
    "    rooms.append(Room(60,'DEBRIS FROM CRUMBLING FACADE',['W','E'],[]))\n",
    "    rooms.append(Room(61,'LARGE FALLEN BRICKWORK',['N','W','E'],[]))\n",
    "    rooms.append(Room(62,'ROTTING STONE ARCH',['N','W','E'],[]))\n",
    "    rooms.append(Room(63,'CRUMBLING CLIFFTOP',['W'],[]))\n",
    "    return rooms"
   ]
  },
  {
   "cell_type": "code",
   "execution_count": 6,
   "metadata": {},
   "outputs": [
    {
     "name": "stdout",
     "output_type": "stream",
     "text": [
      "HAUNTED HOUSE\n",
      "-------------\n",
      "YOUR LOCATION: DARK CORNER\n",
      "EXITS: S, E\n",
      "CONTAINS: a thing\n",
      "Press enter to move to room 1\n",
      "HAUNTED HOUSE\n",
      "-------------\n",
      "YOUR LOCATION: OVERGROWN GARDEN\n",
      "EXITS: W, E\n",
      "CONTAINS: NOTHING\n"
     ]
    }
   ],
   "source": [
    "rooms = [] #Create a list of rooms\n",
    "rooms = createRooms(rooms) #Populate the list of rooms\n",
    "\n",
    "#Create an object for demo\n",
    "Object(0,'A THING',True,True).moveTo(rooms[0]) #create a thing and move to room 1\n",
    "\n",
    "#Create a player and put in room 0\n",
    "player = Player(0)\n",
    "player.look()\n",
    "input('Press enter to move to room 1')\n",
    "player.move(1)\n",
    "player.look()"
   ]
  },
  {
   "cell_type": "code",
   "execution_count": null,
   "metadata": {},
   "outputs": [],
   "source": []
  }
 ],
 "metadata": {
  "kernelspec": {
   "display_name": "Python 3",
   "language": "python",
   "name": "python3"
  },
  "language_info": {
   "codemirror_mode": {
    "name": "ipython",
    "version": 3
   },
   "file_extension": ".py",
   "mimetype": "text/x-python",
   "name": "python",
   "nbconvert_exporter": "python",
   "pygments_lexer": "ipython3",
   "version": "3.7.1"
  }
 },
 "nbformat": 4,
 "nbformat_minor": 2
}
