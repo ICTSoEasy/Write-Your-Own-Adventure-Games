{
 "cells": [
  {
   "cell_type": "markdown",
   "metadata": {},
   "source": [
    "Changelog"
   ]
  },
  {
   "cell_type": "code",
   "execution_count": null,
   "metadata": {
    "hide_input": false
   },
   "outputs": [],
   "source": [
    "'''\n",
    "Changelog\n",
    "1. Created a basic 'room' class\n",
    "2. Created a basic 'object' class and a basic 'player' class\n",
    "3. Added look, showMessages, move, getInstruction, inputSplit functions to Player. Player can now check for \n",
    "   and respond to verbs. Added dummy verb LLAMA to test, and verb E to allow movement East. Which works!\n",
    "   Changed directions in Room to be a dictionary so as to be able to move to arbitrary rooms rather than \n",
    "   performing calculations as in the original. A little more work to set up (and I've commented a load out\n",
    "   for now!) but far easier to actually use. A few tweaks for the main loop to show messages and 'look' at \n",
    "   each round.\n",
    "4. Added directional numbers for whole map. Removed debug info from E. Tweaked messages. Added DEBUG flag and\n",
    "   implemented clear_output().\n",
    "5. Added other direction verbs. Tweaked direction method to use single logical subroutine. Remembered that you\n",
    "   can't append using commas in functions other than print...\n",
    "6. Added the get verb.\n",
    "7. Added the help verb. This is quite different to the original implementation, being written rather than \n",
    "   generated. Removed the LLAMA test verb.\n",
    "8. Added the carrying verb. Tweaked the input splitting to remove (eg) ?'s from input verbs to match original.\n",
    "9. Noted that GO (which will be ignored for now) and other movement verbs have various flag checks that are not\n",
    "   yet implemented. Will do these as and when implementing the verbs associated with them (hopefully!). \n",
    "   Also, implemented TAKE as a pseduonym for GET.\n",
    "\n",
    "\n",
    "Future Thoughts\n",
    "1. I think I'll implement onEnter and onLeave events at some point, called by the move() function of player\n",
    "'''\n",
    "print()"
   ]
  },
  {
   "cell_type": "markdown",
   "metadata": {},
   "source": [
    "Room class"
   ]
  },
  {
   "cell_type": "code",
   "execution_count": null,
   "metadata": {
    "hide_input": true
   },
   "outputs": [],
   "source": [
    "class Room:\n",
    "    def __init__(self,id,desc,exits,contains):\n",
    "        self.id = id\n",
    "        self.desc = desc\n",
    "        self.exits = exits\n",
    "        self.contains = contains\n",
    "        \n",
    "    def describe(self):\n",
    "        print (\"HAUNTED HOUSE\")\n",
    "        print (\"-------------\")\n",
    "        print (\"YOUR LOCATION:\",self.desc)\n",
    "        print (\"EXITS:\",\", \".join(self.exits))\n",
    "        contains = []\n",
    "        for c in self.contains:\n",
    "            contains.append(c.desc)\n",
    "        if (contains == []):\n",
    "            contains.append('NOTHING')\n",
    "        print (\"CONTAINS:\",\", \".join(contains))\n"
   ]
  },
  {
   "cell_type": "markdown",
   "metadata": {
    "hide_input": true
   },
   "source": [
    "Object class"
   ]
  },
  {
   "cell_type": "code",
   "execution_count": null,
   "metadata": {
    "hide_input": true
   },
   "outputs": [],
   "source": [
    "class Object:\n",
    "    def __init__(self,id,desc,gettable=False,visible=True):\n",
    "        self.id = id\n",
    "        self.desc = desc\n",
    "        self.gettable = gettable\n",
    "        self.visible = visible\n",
    "        \n",
    "    def moveTo(self,moveToObject):\n",
    "        moveToObject.contains.append(self)"
   ]
  },
  {
   "cell_type": "markdown",
   "metadata": {},
   "source": [
    "Player class "
   ]
  },
  {
   "cell_type": "code",
   "execution_count": null,
   "metadata": {
    "hide_input": false
   },
   "outputs": [],
   "source": [
    "class Player:\n",
    "    def __init__(self,room,carrying = [],won=False):\n",
    "        self.room = room\n",
    "        self.carrying = carrying\n",
    "        self.won = False\n",
    "        self.messages = []\n",
    "        \n",
    "    def look(self):\n",
    "        rooms[self.room].describe()\n",
    "        \n",
    "    def showMessages(self):\n",
    "        if (len(self.messages) != 0):\n",
    "            for message in self.messages:\n",
    "                print(message)\n",
    "            print()\n",
    "        self.messages = []\n",
    "        \n",
    "    def move(self,room):\n",
    "        self.room = room\n",
    "        \n",
    "    def getInstruction(self):\n",
    "        self.instruction = input(\"WHAT WILL YOU DO NOW? \")\n",
    "        phraseLen = self.inputSplit()\n",
    "        if (phraseLen == 0):\n",
    "            print(\"IT HELPS IF YOU WRITE SOMETHING\")\n",
    "        else:\n",
    "            #They've written something, try and do it\n",
    "            try:\n",
    "                eval('self.'+self.verb+'()')\n",
    "            except:\n",
    "                self.messages.append(\"YOU DON'T MAKE SENSE\") #verb doesn't exist\n",
    "        \n",
    "    def inputSplit(self):\n",
    "        print('You wrote:',self.instruction)\n",
    "        words = self.instruction.upper().split(\" \")\n",
    "        self.instruction = ''\n",
    "        if (len(words) == 0):\n",
    "            self.verb = ''\n",
    "            self.phrase = ''\n",
    "            return 0\n",
    "        elif (len(words) == 1):\n",
    "            self.verb = words[0]\n",
    "            self.verb = re.sub(r'\\W+', '', self.verb)\n",
    "            self.phrase = ''\n",
    "            return 1\n",
    "        else:\n",
    "            self.verb = words[0]\n",
    "            self.verb = re.sub(r'\\W+', '', self.verb)\n",
    "            self.phrase = \"\".join(words[1:])\n",
    "            return 2\n",
    "        \n",
    "    def goDirection(self,letter,word):\n",
    "        if (letter in rooms[self.room].exits):\n",
    "            self.move(rooms[self.room].exits[letter])\n",
    "            self.messages.append('YOU GO '+word)\n",
    "        else:\n",
    "            self.messages.append('YOU CANNOT GO '+word+' FROM HERE')\n",
    "\n",
    "        \n",
    "    '''VERBS'''\n",
    "    def E(self):\n",
    "        self.goDirection('E','EAST')\n",
    "    def W(self):\n",
    "        self.goDirection('W','WEST')\n",
    "    def N(self):\n",
    "        self.goDirection('N','NORTH')\n",
    "    def S(self):\n",
    "        self.goDirection('S','SOUTH')\n",
    "    def U(self):\n",
    "        self.goDirection('U','UP')\n",
    "    def D(self):\n",
    "        self.goDirection('D','DOWN')\n",
    "            \n",
    "    def LOOK(self):\n",
    "        if (self.phrase == ''):\n",
    "            self.messages.append('YOU LOOK AROUND')\n",
    "            \n",
    "    def GET(self):\n",
    "        found = False\n",
    "        for i in range(len(rooms[self.room].contains)):\n",
    "            ob = rooms[self.room].contains[i]\n",
    "            if ob.desc == self.phrase:\n",
    "                found = True\n",
    "                if ob.gettable:\n",
    "                    self.carrying.append(ob)\n",
    "                    del rooms[self.room].contains[i]\n",
    "                    self.messages.append('YOU GET '+ob.desc)\n",
    "                else:\n",
    "                    self.messages.append('YOU CANNOT GET '+ob.desc)\n",
    "        if not found:\n",
    "            self.messages.append('COULD NOT FIND '+self.phrase)\n",
    "    \n",
    "    def TAKE(self):\n",
    "        self.GET()\n",
    "        \n",
    "    def HELP(self):\n",
    "        self.messages.append(\"HELP\")\n",
    "        self.messages.append(\"====\")\n",
    "        self.messages.append(\"Can you get out of the haunted house?\")\n",
    "        self.messages.append(\"You can move in (up to) six directions using the initial letter of the direction.\")\n",
    "        self.messages.append(\"(N)orth, (S)outh, (E)ast, (W)est, (U)p, (D)own.\")\n",
    "        self.messages.append(\"Commands:\")\n",
    "        self.messages.append(\"HELP lists this help file.\")\n",
    "        self.messages.append(\"LOOK looks around the room you are in.\")\n",
    "        self.messages.append(\"GET OBJECT Gets an object you can see if possible and puts in your inventory.\")\n",
    "        self.messages.append('CARRYING? Tells you the contents of your inventory.')\n",
    "        \n",
    "    def CARRYING(self):\n",
    "        numCarrying = len(self.carrying)\n",
    "        if numCarrying == 0:\n",
    "            self.messages.append(\"YOU ARE NOT CARRYING ANYTHING\")\n",
    "        else:\n",
    "            for i in range(numCarrying):\n",
    "                self.messages.append(\"YOUR INVENTORY CONTAINS:\")\n",
    "                self.messages.append(\" - \"+self.carrying[i].desc)"
   ]
  },
  {
   "cell_type": "markdown",
   "metadata": {},
   "source": [
    "Creeate objects"
   ]
  },
  {
   "cell_type": "code",
   "execution_count": null,
   "metadata": {
    "hide_input": true
   },
   "outputs": [],
   "source": [
    "def createObjects(rooms):\n",
    "    Object(1,'PAINTING',True,True).moveTo(rooms[46])\n",
    "    Object(2,'RING',True,True).moveTo(rooms[38])\n",
    "    Object(3,'MAGIC SPELLS',True,True).moveTo(rooms[35])\n",
    "    Object(4,'GOBLET',True,True).moveTo(rooms[50])\n",
    "    Object(5,'SCROLL',True,True).moveTo(rooms[13])\n",
    "    Object(6,'COINS',True,True).moveTo(rooms[18])\n",
    "    Object(7,'STATUE',True,True).moveTo(rooms[28])\n",
    "    Object(8,'CANDLESTICK',True,True).moveTo(rooms[42])\n",
    "    Object(9,'MATCHES',True,True).moveTo(rooms[10])\n",
    "    Object(10,'VACUUM',True,True).moveTo(rooms[25])\n",
    "    Object(11,'BATTERIES',True,True).moveTo(rooms[26])\n",
    "    Object(12,'SHOVEL',True,True).moveTo(rooms[12])\n",
    "    Object(13,'AXE',True,True).moveTo(rooms[2])\n",
    "    Object(14,'ROPE',True,True).moveTo(rooms[7])\n",
    "    Object(15,'AEROSOL',True,True).moveTo(rooms[60])\n",
    "    Object(16,'CANDLE',True,True).moveTo(rooms[43])\n",
    "    Object(17,'KEY',True,True).moveTo(rooms[32])\n",
    "    return rooms"
   ]
  },
  {
   "cell_type": "markdown",
   "metadata": {},
   "source": [
    "Create rooms"
   ]
  },
  {
   "cell_type": "code",
   "execution_count": null,
   "metadata": {
    "hide_input": true
   },
   "outputs": [],
   "source": [
    "def createRooms(rooms):\n",
    "    rooms.append(Room(0,'DARK CORNER',{'S':8,'E':1},[]))\n",
    "    rooms.append(Room(1,'OVERGROWN GARDEN',{'W':0,'E':2},[]))\n",
    "    rooms.append(Room(2,'BY LARGE WOODPILE',{'W':1,'E':3},[]))\n",
    "    rooms.append(Room(3,'YARD BY RUBBISH',{'S':11,'W':2,'E':4},[]))\n",
    "    rooms.append(Room(4,'WEED PATCH',{'W':3,'E':5},[]))\n",
    "    rooms.append(Room(5,'FOREST',{'W':4,'E':6},[]))\n",
    "    rooms.append(Room(6,'THICK FOREST',{'S':14,'W':5,'E':7},[]))\n",
    "    rooms.append(Room(7,'BLASTED TREE',{'W':6,'S':15},[]))\n",
    "    rooms.append(Room(8,'CORNER OF HOUSE',{'N':0,'S':16},[]))\n",
    "    rooms.append(Room(9,'ENTRANCE TO KITCHEN',{'S':17,'E':10},[]))\n",
    "    rooms.append(Room(10,'KITCHEN & GRIMY COOKER',{'W':9,'E':11},[]))\n",
    "    rooms.append(Room(11,'SCULLERY DOOR',{'N':3,'W':10},[]))\n",
    "    rooms.append(Room(12,'ROOM WITH INCHES OF DUST',{'D':20,'E':13},[])) #D was originally S\n",
    "    rooms.append(Room(13,'REAR TURRET ROOM',{'W':12},[]))\n",
    "    rooms.append(Room(14,'CLEARING BY HOUSE',{'N':6,'E':15},[]))\n",
    "    rooms.append(Room(15,'PATH',{'N':7,'S':23,'W':14},[]))\n",
    "    rooms.append(Room(16,'SIDE OF HOUSE',{'N':8,'S':24},[]))\n",
    "    rooms.append(Room(17,'BACK OF HALLWAY',{'N':9,'S':25},[]))\n",
    "    rooms.append(Room(18,'DARK ALCOVE',{'S':26,'E':19},[]))\n",
    "    rooms.append(Room(19,'SMALL DARK ROOM',{'W':18,'E':20},[]))\n",
    "    rooms.append(Room(20,'BOTTOM OF SPIRAL STAIRCASE',{'W':19,'U':12},[])) #originally had N=U,D=W\n",
    "    rooms.append(Room(21,'WIDE PASSAGE',{'S':29,'D':22},[])) #D originally E, but steps\n",
    "    rooms.append(Room(22,'SLIPPERY STEPS',{'U':21,'D':30},[])) #originally U=W,D=S, but steps\n",
    "    rooms.append(Room(23,'CLIFFTOP',{'N':15,'S':31},[]))\n",
    "    rooms.append(Room(24,'NEAR CRUMBLING WALL',{'N':16},[]))\n",
    "    rooms.append(Room(25,'GLOOMY PASSAGE',{'N':17,'S':33},[]))\n",
    "    rooms.append(Room(26,'POOL OF LIGHT',{'N':18,'S':34,'E':27},[]))\n",
    "    rooms.append(Room(27,'IMPRESSIVE VAULTED HALLWAY',{'W':26,'E':28},[]))\n",
    "    rooms.append(Room(28,'HALL BY THICK WOODEN DOOR',{'W':27,'E':29},[]))\n",
    "    rooms.append(Room(29,'TROPHY ROOM',{'N':21,'S':37,'W':28},[]))\n",
    "    rooms.append(Room(30,'CELLAR WITH BARRED WINDOW',{'U':22,'S':38},[])) #U was N\n",
    "    rooms.append(Room(31,'CLIFF PATH',{'N':23,'S':39},[]))\n",
    "    rooms.append(Room(32,'CUPBOARD WITH HANGING COAT',{'S':40},[]))\n",
    "    rooms.append(Room(33,'FRONT WALL',{'N':25,'S':41,'E':34},[]))\n",
    "    rooms.append(Room(34,'SITTING ROOM',{'N':26,'S':42,'W':33},[]))\n",
    "    rooms.append(Room(35,'SECRET ROOM',{'S':43},[]))\n",
    "    rooms.append(Room(36,'STEEP MARBLE STAIRS',{'S':44,'D':28},[])) #D is one-way, was also N. U/S now just S\n",
    "    rooms.append(Room(37,'DINING ROOM',{'N':29},[]))\n",
    "    rooms.append(Room(38,'DEEP CELLAR WITH COFFIN',{'N':30},[]))\n",
    "    rooms.append(Room(39,'CLIFF PATH',{'N':31,'S':47},[]))\n",
    "    rooms.append(Room(40,'CLOSET',{'N':32,'E':41},[]))\n",
    "    rooms.append(Room(41,'FRONT LOBBY',{'N':33,'W':40},[])) #Note incoming from 49 is one way\n",
    "    rooms.append(Room(42,'LIBRARY OF EVIL BOOKS',{'N':34,'E':43},[]))\n",
    "    rooms.append(Room(43,'STUDY WITH DESK & HOLE IN WALL',{'W':42},[]))\n",
    "    rooms.append(Room(44,'WEIRD COBWEBBY ROOM',{'N':36,'S':52,'E':45},[]))\n",
    "    rooms.append(Room(45,'VERY COLD CHAMBER',{'W':44,'E':46},[]))\n",
    "    rooms.append(Room(46,'SPOOKY ROOM',{'W':46},[]))\n",
    "    rooms.append(Room(47,'CLIFF PATH BY MARSH',{'N':39,'S':55},[]))\n",
    "    rooms.append(Room(48,'RUBBLE-STREWN VERANDAH',{'S':56,'E':49},[]))\n",
    "    rooms.append(Room(49,'FRONT PORCH',{'N':41,'S':57,'W':48},[]))\n",
    "    rooms.append(Room(50,'FRONT TOWER',{'E':51},[]))\n",
    "    rooms.append(Room(51,'SLOPING CORRIDOR',{'W':50,'E':52},[]))\n",
    "    rooms.append(Room(52,'UPPER GALLERY',{'N':44,'W':51},[]))\n",
    "    rooms.append(Room(53,'MARSH BY WALL',{'S':61},[]))\n",
    "    rooms.append(Room(54,'MARSH',{'S':62,'W':53},[]))\n",
    "    rooms.append(Room(55,'SOGGY PATH',{'N':47,'W':54},[]))\n",
    "    rooms.append(Room(56,'BY TWISTED RAILING',{'N':48,'E':57},[]))\n",
    "    rooms.append(Room(57,'PATH THROUGH IRON GATE',{'N':49,'W':56,'E':58},[]))\n",
    "    rooms.append(Room(58,'BY RAILINGS',{'W':57,'E':59},[]))\n",
    "    rooms.append(Room(59,'BENEATH THE FRONT TOWER',{'W':58,'E':60},[]))\n",
    "    rooms.append(Room(60,'DEBRIS FROM CRUMBLING FACADE',{'W':59,'E':61},[]))\n",
    "    rooms.append(Room(61,'LARGE FALLEN BRICKWORK',{'N':53,'W':60,'E':62},[]))\n",
    "    rooms.append(Room(62,'ROTTING STONE ARCH',{'N':54,'W':61,'E':63},[]))\n",
    "    rooms.append(Room(63,'CRUMBLING CLIFFTOP',{'W':62},[]))\n",
    "    return rooms"
   ]
  },
  {
   "cell_type": "markdown",
   "metadata": {},
   "source": [
    "Main program"
   ]
  },
  {
   "cell_type": "code",
   "execution_count": null,
   "metadata": {},
   "outputs": [],
   "source": [
    "DEBUG = 0\n",
    "from IPython.display import clear_output\n",
    "import re\n",
    "\n",
    "rooms = [] #Create a list of rooms\n",
    "rooms = createRooms(rooms) #Populate the list of rooms\n",
    "rooms = createObjects(rooms) #Create objects and put them in the rooms\n",
    "\n",
    "#Create a player and put in room 0\n",
    "player = Player(2)\n",
    "while not player.won:\n",
    "    if DEBUG:\n",
    "        print('\\nCLS...\\n')\n",
    "    else:\n",
    "        clear_output()\n",
    "    player.showMessages()\n",
    "    player.look()\n",
    "    player.getInstruction()"
   ]
  }
 ],
 "metadata": {
  "kernelspec": {
   "display_name": "Python 3",
   "language": "python",
   "name": "python3"
  },
  "language_info": {
   "codemirror_mode": {
    "name": "ipython",
    "version": 3
   },
   "file_extension": ".py",
   "mimetype": "text/x-python",
   "name": "python",
   "nbconvert_exporter": "python",
   "pygments_lexer": "ipython3",
   "version": "3.7.1"
  }
 },
 "nbformat": 4,
 "nbformat_minor": 2
}
