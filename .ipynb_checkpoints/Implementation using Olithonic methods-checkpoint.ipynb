{
 "cells": [
  {
   "cell_type": "code",
   "execution_count": null,
   "metadata": {},
   "outputs": [],
   "source": [
    "'''\n",
    "Changelog\n",
    "1. Created a basic 'room' class\n",
    "'''\n",
    "print()"
   ]
  },
  {
   "cell_type": "code",
   "execution_count": 1,
   "metadata": {},
   "outputs": [],
   "source": [
    "class Room:\n",
    "    def __init__(self,id,desc,exits,contains):\n",
    "        self.id = id\n",
    "        self.desc = desc\n",
    "        self.exits = exits\n",
    "        self.contains = contains\n",
    "        \n",
    "    def describe(self):\n",
    "        print (\"HAUNTED HOUSE\")\n",
    "        print (\"-------------\")\n",
    "        print (\"YOUR LOCATION\",self.desc)\n",
    "        print (\"EXITS:\",\", \".join(self.exits))"
   ]
  },
  {
   "cell_type": "code",
   "execution_count": 2,
   "metadata": {},
   "outputs": [
    {
     "name": "stdout",
     "output_type": "stream",
     "text": [
      "HAUNTED HOUSE\n",
      "-------------\n",
      "YOUR LOCATION my room\n",
      "EXITS: N, S, E\n"
     ]
    }
   ],
   "source": [
    "r = Room(1,'my room',['N','S','E'],[])\n",
    "r.describe()"
   ]
  },
  {
   "cell_type": "code",
   "execution_count": null,
   "metadata": {},
   "outputs": [],
   "source": []
  }
 ],
 "metadata": {
  "kernelspec": {
   "display_name": "Python 3",
   "language": "python",
   "name": "python3"
  },
  "language_info": {
   "codemirror_mode": {
    "name": "ipython",
    "version": 3
   },
   "file_extension": ".py",
   "mimetype": "text/x-python",
   "name": "python",
   "nbconvert_exporter": "python",
   "pygments_lexer": "ipython3",
   "version": "3.7.1"
  }
 },
 "nbformat": 4,
 "nbformat_minor": 2
}
