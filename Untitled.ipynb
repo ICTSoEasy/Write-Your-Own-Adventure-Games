{
 "cells": [
  {
   "cell_type": "code",
   "execution_count": 1,
   "metadata": {},
   "outputs": [
    {
     "name": "stdout",
     "output_type": "stream",
     "text": [
      "['', 'CARRYING?', 'GO', 'N', 'S', 'W', 'E', 'U', 'D', 'GET', 'TAKE', 'OPEN', 'EXAMINE', 'READ', 'SAY', 'DIG', 'SWING', 'CLIMB', 'LIGHT', 'UNLIGHT', 'SPRAY', 'USE', 'UNLOCK', 'LEAVE', 'SCORE']\n",
      "['', 'CARRYING?', 'GO', 'N', 'S', 'W', 'E', 'U', 'D', 'GET', 'TAKE', 'OPEN', 'EXAMINE', 'READ', 'SAY', 'DIG', 'SWING', 'CLIMB', 'LIGHT', 'UNLIGHT', 'SPRAY', 'USE', 'UNLOCK', 'LEAVE', 'SCORE']\n"
     ]
    }
   ],
   "source": [
    "def initialisation():\n",
    "    #DIMR$(63) - another unknown variable - this time arrays of strings. \n",
    "    #63 is the end index, not including 0. Looks like for counts are 1 to x\n",
    "    #Initialised to '' as that is what happened in BBC BASIC. \n",
    "    #Made global to match original code\n",
    "    global r,d,o,v,v_,c,l,f,ll,rm,m\n",
    "    r = ['']*64 #Routes\n",
    "    d = ['']*64 #Room descriptions\n",
    "    o = ['']*w_\n",
    "    v = ['']*v_\n",
    "    #Numerical arrays in BASIC were initialised to 0\n",
    "    c = [0]*w_\n",
    "    l = [0]*g\n",
    "    f = [0]*w_\n",
    "    #BASIC is weird the way it fills up arrays! Think I've got this right,\n",
    "    #leaves the index 0 as... well 0.\n",
    "    data = [46,38,35,50,13,18,28,42,10,25,26,4,2,7,47,60,43,32]\n",
    "    for i in range(1,g):\n",
    "        l[i] = data[i]\n",
    "    #verbs\n",
    "    data = ['HELP','CARRYING?','GO','N','S','W','E','U','D','GET','TAKE','OPEN','EXAMINE',\n",
    "            'READ','SAY','DIG','SWING','CLIMB','LIGHT','UNLIGHT','SPRAY','USE','UNLOCK',\n",
    "            'LEAVE','SCORE']\n",
    "    #fill up the verb list\n",
    "    for i in range(1,v_):\n",
    "        #v[i] = data[i], \n",
    "        v[i] = data[i][:]\n",
    "    print(v)\n",
    "    data = ['SE','WE','WE','SWE','WE','WE','SWE','WS','NS','SE','WE','NW','SE','W','NE','NSW',\n",
    "            'NS','NS','SE','WE','NWUD','SE','WSUD','NS','N','NS','NSE','WE','WE','NSW','NS','NS',\n",
    "            'S','NSE','NSW','S','NSUD','N','N','NS','NE','NW','NE','W','NSE','WE','W','NS',\n",
    "            'SE','NSW','E','WE','NW','S','SW','NW ','NE','NWE','WE','WE','WE','NWE','NWE','W']\n",
    "    for i in range(0,64): #original is 63, but odd indexes and all\n",
    "        r[i] = data[i]\n",
    "    data = ['DARK CORNER','OVERGROWN GARDEN','BY LARGE WOODPILE','YARD BY RUBBISH','WEEDPATCH',\n",
    "            'FOREST','THICK FOREST','BLASTED TREE','CORNER OF HOUSE','ENTRANCE TO KITCHEN',\n",
    "            'KITCHEN & GRIMY COOKER','SCULLERY DOOR','ROOM WITH INCHES OF DUST','REAR TURRET ROOM',\n",
    "            'CLEARING BY HOUSE','PATH','SIDE OF HOUSE','BACK OF HALLWAY','DARK ALCOVE','SMALL DARK ROOM',\n",
    "            'BOTTOM OF SPIRAL STAIRCASE','WIDE PASSAGE','SLIPPERY STEPS','CLIFFTOP','NEAR CRUMBLING WALL',\n",
    "            'GLOOMY PASSAGE','POOL OF LIGHT','IMPRESSIVE VAULTED HALLWAY','HALL BY THICK WOODEN DOOR',\n",
    "            'TROPHY ROOM','CELLAR WITH BARRED WINDOW','CLIFF PATH','CUPBOARD WITH HANGING COAT','FRONT HALL',\n",
    "            'SITTING ROOM','SECRET ROOM','STEEP MARBLE STAIRS','DINING ROOM','DEEP CELLAR WITH COFFIN',\n",
    "            'CLIFF PATH','CLOSET','FRONT LOBBY','LIBRARY OF EVIL BOOKS','STUDY WITH DESK & HOLE IN WALL',\n",
    "            'WEIRD COBWEBBY ROOM','VERY COLD CHAMBER','SPOOKY ROOM','CLIFF PATH BY MARSH',\n",
    "            'RUBBLE-STREWN VERANDAH','FRONT PORCH','FRONT TOWER','SLOPING CORRIDOR','UPPER GALLERY',\n",
    "            'MARSH BY WALL','MARSH','SOGGY PATH','BY TWISTED RAILING','PATH THROUGH IRON GATE','BY RAILINGS',\n",
    "            'BENEATH FRON TOWER','DEBRIS FROM CURMBLING FACADE','LARGE FALLEN BRICKWORK','ROTTING STONE ARCH',\n",
    "            'CRUMBLING CLIFFTOP']\n",
    "    for i in range(0,64): #again, original was 63\n",
    "        d[i] = data[i]\n",
    "    data = ['PAINTING','RING','MAGIC SPELLS','GOBLET','SCROLL','COINS','STATUE','CANDLESTICK','MATCHES',\n",
    "            'VACUUM','BATTERIES','SHOVEL','AXE','ROPE','BOAT','AEROSOL','CANDLE','KEY','NORTH','SOUTH',\n",
    "            'WEST','EAST','UP','DOWN','DOOR','BATS','GHOSTS','DRAWER','DESK','COAT','RUBBISH','COFFIN',\n",
    "            'BOOKS','XZANFAR','WALL','SPELLS']\n",
    "    for i in range(0,w_): #original was 1 to w_ - but that missed PAINTING...\n",
    "        o[i] = data[i]\n",
    "    f[18],f[17],f[2],f[26],f[28],f[23]=1,1,1,1,1,1\n",
    "    ll=60\n",
    "    rm=57 #Location index of the player\n",
    "    m='OK'\n",
    "    return #Not really needed in Python - but for now we're staying true! \n",
    "    #looks like it 'returns' to the start of description and feedback\n",
    "    \n",
    "v_ = 25 #Number of verbs - originally V and V$ seen as different - this is V (number)\n",
    "w_ = 36 #Number of object words - originally W and W$ seen as different - this is W (number)\n",
    "g = 18 #Number of 'gettable object'\n",
    "initialisation() #Call initialisation function - originally GOSUB 1600\n",
    "print(v)"
   ]
  },
  {
   "cell_type": "code",
   "execution_count": null,
   "metadata": {},
   "outputs": [],
   "source": []
  }
 ],
 "metadata": {
  "kernelspec": {
   "display_name": "Python 3",
   "language": "python",
   "name": "python3"
  },
  "language_info": {
   "codemirror_mode": {
    "name": "ipython",
    "version": 3
   },
   "file_extension": ".py",
   "mimetype": "text/x-python",
   "name": "python",
   "nbconvert_exporter": "python",
   "pygments_lexer": "ipython3",
   "version": "3.7.1"
  }
 },
 "nbformat": 4,
 "nbformat_minor": 2
}
