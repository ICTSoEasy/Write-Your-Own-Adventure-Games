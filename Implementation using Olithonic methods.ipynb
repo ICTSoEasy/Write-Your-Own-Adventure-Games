{
 "cells": [
  {
   "cell_type": "code",
   "execution_count": null,
   "metadata": {},
   "outputs": [],
   "source": [
    "'''\n",
    "Changelog\n",
    "1. Created a basic 'room' class\n",
    "2. Created a basic 'object' class and a basic 'player' class\n",
    "'''\n",
    "print()"
   ]
  },
  {
   "cell_type": "code",
   "execution_count": null,
   "metadata": {},
   "outputs": [],
   "source": [
    "class Room:\n",
    "    def __init__(self,id,desc,exits,contains):\n",
    "        self.id = id\n",
    "        self.desc = desc\n",
    "        self.exits = exits\n",
    "        self.contains = contains\n",
    "        \n",
    "    def describe(self):\n",
    "        print (\"HAUNTED HOUSE\")\n",
    "        print (\"-------------\")\n",
    "        print (\"YOUR LOCATION\",self.desc)\n",
    "        print (\"EXITS:\",\", \".join(self.exits))\n",
    "        contains = []\n",
    "        for c in self.contains:\n",
    "            contains.append(c.desc)\n",
    "        print (\"CONTAINS:\",\", \".join(contains))\n"
   ]
  },
  {
   "cell_type": "code",
   "execution_count": null,
   "metadata": {},
   "outputs": [],
   "source": [
    "class Object:\n",
    "    def __init__(self,id,desc,gettable=False,visible=True):\n",
    "        self.id = id\n",
    "        self.desc = desc\n",
    "        self.gettable = gettable\n",
    "        self.visible = visible\n",
    "        \n",
    "    def moveTo(self,moveToObject):\n",
    "        moveToObject.contains.append(self)\n",
    "        \n",
    "    def get(self,getter):\n",
    "        if self.gettable:\n",
    "            self.moveTo(moveToObject)\n",
    "            print('YOU GET',self.desc)\n",
    "        else:\n",
    "            print('YOU CANNOT GET',self.desc)"
   ]
  },
  {
   "cell_type": "code",
   "execution_count": null,
   "metadata": {},
   "outputs": [],
   "source": [
    "class Player:\n",
    "    def __init__(self,room,carrying = []):\n",
    "        self.room = room\n",
    "        self.carrying = carrying\n",
    "        \n",
    "    def look(self):\n",
    "        rooms[self.room].describe()\n",
    "        \n",
    "    def move(self,room):\n",
    "        self.room = room"
   ]
  },
  {
   "cell_type": "code",
   "execution_count": null,
   "metadata": {},
   "outputs": [],
   "source": [
    "rooms = [] #Create a list of rooms\n",
    "\n",
    "#Create two rooms for demo\n",
    "rooms.append(Room(0,'MY ROOM',['N','S','E'],[]))\n",
    "rooms.append(Room(1,'ANOTHER ROOM',['N','S','E','W'],[]))\n",
    "\n",
    "#Create an object for demo\n",
    "Object(0,'a thing',True,True).moveTo(rooms[0]) #create a thing and move to room 1\n",
    "\n",
    "#Create a player and put in room 0\n",
    "player = Player(0)\n",
    "player.look()\n",
    "input('Press enter to move to room 1')\n",
    "player.move(1)\n",
    "player.look()"
   ]
  },
  {
   "cell_type": "code",
   "execution_count": null,
   "metadata": {},
   "outputs": [],
   "source": []
  }
 ],
 "metadata": {
  "kernelspec": {
   "display_name": "Python 3",
   "language": "python",
   "name": "python3"
  },
  "language_info": {
   "codemirror_mode": {
    "name": "ipython",
    "version": 3
   },
   "file_extension": ".py",
   "mimetype": "text/x-python",
   "name": "python",
   "nbconvert_exporter": "python",
   "pygments_lexer": "ipython3",
   "version": "3.7.1"
  }
 },
 "nbformat": 4,
 "nbformat_minor": 2
}
