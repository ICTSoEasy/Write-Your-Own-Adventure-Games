{
 "cells": [
  {
   "cell_type": "code",
   "execution_count": null,
   "metadata": {},
   "outputs": [],
   "source": [
    "'''\n",
    "Based on the Usborne book \"Write your own adventure programmes for your microcomputer\"\n",
    "Original book by J. Tyler & L. Howarth, (c) 1983\n",
    "This code is as direct an implementation as possible while converting from largely\n",
    "BBC BASIC into Python via Jupyter Notebooks\n",
    "\n",
    "HAUNTED HOUSE ADVENTURE\n",
    "'''\n",
    "print()"
   ]
  },
  {
   "cell_type": "code",
   "execution_count": null,
   "metadata": {},
   "outputs": [],
   "source": [
    "'''\n",
    "PROGRESS LOG\n",
    "1. Created subroutines for each identified section in the original code\n",
    "2. Created the section of the program which initialises variables and \n",
    "   calls initialisation. Made the decision to use lowercase variable names\n",
    "   (original is all caps) for clarity. No doubt this will come back to haunt\n",
    "   me in the future!\n",
    "3. Created section which deals with description and feedback\n",
    "4. Created section which deals with input and input analysis. Renamed \n",
    "   inputAndInputAnalysis to the correct thing (oops!) Updated the progress log (oops!)\n",
    "   Fixed some issues with list boundaries in initialisation - fairly sure this will \n",
    "   rear its ugly head again. Also fixed a problem in verb list creation where a rogue\n",
    "   comma was causing tuples rather than strings!\n",
    "'''\n",
    "print()"
   ]
  },
  {
   "cell_type": "code",
   "execution_count": null,
   "metadata": {},
   "outputs": [],
   "source": [
    "def descriptionAndFeedback():\n",
    "    global m #needed as all(?) variables in BASIC (at least in this program) are global\n",
    "    #CLS - clear screen - may or may not work in Jupyter but will leave out for noow\n",
    "    print('HAUNTED HOUSE')\n",
    "    print('-------------')\n",
    "    print('YOUR LOCATION')\n",
    "    print(d[rm])\n",
    "    print('EXITS: ',end='')\n",
    "    for i in range(0,len(r[rm])): #Replaces the MID - and had to start at 0\n",
    "        print(r[rm][i:i+1],end='')\n",
    "        if i != len(r[rm])-1:\n",
    "            print(', ',end='') #brackets and spaces between exits\n",
    "\n",
    "    print()\n",
    "    for i in range(1,g):\n",
    "        if(l[i]==rm and f[i]==0): #Looks to see if any visible objects are here\n",
    "            print('YOU CAN SEE',o[i],'HERE')\n",
    "    print('=========================')\n",
    "    print(m)\n",
    "    m = 'WHAT' #WHAT is set at the start oof each go"
   ]
  },
  {
   "cell_type": "code",
   "execution_count": null,
   "metadata": {},
   "outputs": [],
   "source": [
    "def inputAndInputAnalysis():\n",
    "    global w_,v_ #global integers - array counts\n",
    "    global v #verb list\n",
    "    q = input('WHAT WILL YOU DO NOW? ')#I added a question mark. Just cos.\n",
    "    verb = '' #had to replace v with verb, as global v is v$ (list of strings)\n",
    "    w = ''\n",
    "    vb = 0\n",
    "    ob = 0\n",
    "    for i in range(0,len(q)): #Had to change 1 index to 0 - go through all of q\n",
    "        #Goes through q until it finds a space; if verb is empty, put the word into verb\n",
    "        if q[i:i+1]==' ' and verb=='': #Replaces a MID \n",
    "            verb = q[0:i] #Replaces a LEFT - -1 not needed as different indexes\n",
    "            #print ('word',verb,'found') #debugging - not in original\n",
    "        #looks for a letter *after* a space (ie the rest of a line) and puts in w\n",
    "        if q[i+1:i+2]!=' ' and verb!='':\n",
    "            w = q[i+1:len(q)] #debugging - not in original\n",
    "            #print('rest of line',w,'found')\n",
    "            break #replaces i = len(q) to jump out of the loop\n",
    "    #print('verb',verb) #debugging - not in original\n",
    "    #print('w',w) #debugging - not in original\n",
    "    #No gap found, so they only wrote one word. Copy it into verb\n",
    "    if w == '':\n",
    "        verb=q\n",
    "    #Loop around the number of verbs I know about\n",
    "    for i in range(0,v_-1):\n",
    "        if verb == v[i]:\n",
    "            vb = i\n",
    "    #print('verb found at',vb) #debugging - not in original\n",
    "    #Loop around the number of objects I know about\n",
    "    #print('looking for',w)#debugging - not in original\n",
    "    for i in range(0,w_):\n",
    "        #print(o[i]) #debugging - not in original\n",
    "        if w == o[i]:\n",
    "            ob=i\n",
    "    #print('object found at',ob)#debugging - not in original\n",
    "        \n"
   ]
  },
  {
   "cell_type": "code",
   "execution_count": null,
   "metadata": {},
   "outputs": [],
   "source": [
    "def errorMessagesAndOverrideConditions():\n",
    "    pass"
   ]
  },
  {
   "cell_type": "code",
   "execution_count": null,
   "metadata": {},
   "outputs": [],
   "source": [
    "def branchToSubroutines():\n",
    "    pass"
   ]
  },
  {
   "cell_type": "code",
   "execution_count": null,
   "metadata": {},
   "outputs": [],
   "source": [
    "def verb1():\n",
    "    pass"
   ]
  },
  {
   "cell_type": "code",
   "execution_count": null,
   "metadata": {},
   "outputs": [],
   "source": [
    "def verb2():\n",
    "    pass"
   ]
  },
  {
   "cell_type": "code",
   "execution_count": null,
   "metadata": {},
   "outputs": [],
   "source": [
    "def verbs3to9():\n",
    "    pass"
   ]
  },
  {
   "cell_type": "code",
   "execution_count": null,
   "metadata": {},
   "outputs": [],
   "source": [
    "def verbs10and11():\n",
    "    pass"
   ]
  },
  {
   "cell_type": "code",
   "execution_count": null,
   "metadata": {},
   "outputs": [],
   "source": [
    "def verb12():\n",
    "    pass"
   ]
  },
  {
   "cell_type": "code",
   "execution_count": null,
   "metadata": {},
   "outputs": [],
   "source": [
    "def verb13():\n",
    "    pass"
   ]
  },
  {
   "cell_type": "code",
   "execution_count": null,
   "metadata": {},
   "outputs": [],
   "source": [
    "def verb14():\n",
    "    pass"
   ]
  },
  {
   "cell_type": "code",
   "execution_count": null,
   "metadata": {},
   "outputs": [],
   "source": [
    "def verb15():\n",
    "    pass"
   ]
  },
  {
   "cell_type": "code",
   "execution_count": null,
   "metadata": {},
   "outputs": [],
   "source": [
    "def verb16():\n",
    "    pass"
   ]
  },
  {
   "cell_type": "code",
   "execution_count": null,
   "metadata": {},
   "outputs": [],
   "source": [
    "def verb17():\n",
    "    pass"
   ]
  },
  {
   "cell_type": "code",
   "execution_count": null,
   "metadata": {},
   "outputs": [],
   "source": [
    "def verb18():\n",
    "    pass"
   ]
  },
  {
   "cell_type": "code",
   "execution_count": null,
   "metadata": {},
   "outputs": [],
   "source": [
    "def verb19():\n",
    "    pass"
   ]
  },
  {
   "cell_type": "code",
   "execution_count": null,
   "metadata": {},
   "outputs": [],
   "source": [
    "def verb20():\n",
    "    pass"
   ]
  },
  {
   "cell_type": "code",
   "execution_count": null,
   "metadata": {},
   "outputs": [],
   "source": [
    "def verb21():\n",
    "    pass"
   ]
  },
  {
   "cell_type": "code",
   "execution_count": null,
   "metadata": {},
   "outputs": [],
   "source": [
    "def verb22():\n",
    "    pass"
   ]
  },
  {
   "cell_type": "code",
   "execution_count": null,
   "metadata": {},
   "outputs": [],
   "source": [
    "def verb23():\n",
    "    pass"
   ]
  },
  {
   "cell_type": "code",
   "execution_count": null,
   "metadata": {},
   "outputs": [],
   "source": [
    "def verb24():\n",
    "    pass"
   ]
  },
  {
   "cell_type": "code",
   "execution_count": null,
   "metadata": {},
   "outputs": [],
   "source": [
    "def verb25():\n",
    "    pass"
   ]
  },
  {
   "cell_type": "code",
   "execution_count": null,
   "metadata": {},
   "outputs": [],
   "source": [
    "def initialisation():\n",
    "    #DIMR$(63) - another unknown variable - this time arrays of strings. \n",
    "    #63 is the end index, not including 0. Looks like for counts are 1 to x\n",
    "    #Initialised to '' as that is what happened in BBC BASIC. \n",
    "    #Made global to match original code\n",
    "    global r,d,o,v,v_,c,l,f,ll,rm,m\n",
    "    r = ['']*64 #Routes\n",
    "    d = ['']*64 #Room descriptions\n",
    "    o = ['']*(w_+1) #Objects - +1 BASIC indexing\n",
    "    v = ['']*(v_+1) #Verbs - +1 BASIC indexing\n",
    "    #Numerical arrays in BASIC were initialised to 0\n",
    "    c = [0]*w_\n",
    "    l = [0]*g\n",
    "    f = [0]*w_\n",
    "    #BASIC is weird the way it fills up arrays! Think I've got this right,\n",
    "    #leaves the index 0 as... well 0.\n",
    "    data = [46,38,35,50,13,18,28,42,10,25,26,4,2,7,47,60,43,32]\n",
    "    for i in range(1,g):\n",
    "        l[i] = data[i]\n",
    "    #verbs\n",
    "    data = ['','HELP','CARRYING?','GO','N','S','W','E','U','D','GET','TAKE','OPEN','EXAMINE',\n",
    "            'READ','SAY','DIG','SWING','CLIMB','LIGHT','UNLIGHT','SPRAY','USE','UNLOCK',\n",
    "            'LEAVE','SCORE'] #Added the blank at the start - BASIC indexing!\n",
    "    #fill up the verb list\n",
    "    for i in range(1,v_+1):#+1 - BASIC indexing\n",
    "        v[i] = data[i]\n",
    "    data = ['SE','WE','WE','SWE','WE','WE','SWE','WS','NS','SE','WE','NW','SE','W','NE','NSW',\n",
    "            'NS','NS','SE','WE','NWUD','SE','WSUD','NS','N','NS','NSE','WE','WE','NSW','NS','NS',\n",
    "            'S','NSE','NSW','S','NSUD','N','N','NS','NE','NW','NE','W','NSE','WE','W','NS',\n",
    "            'SE','NSW','E','WE','NW','S','SW','NW ','NE','NWE','WE','WE','WE','NWE','NWE','W']\n",
    "    for i in range(0,64): #original is 63, but odd indexes and all\n",
    "        r[i] = data[i]\n",
    "    data = ['DARK CORNER','OVERGROWN GARDEN','BY LARGE WOODPILE','YARD BY RUBBISH','WEEDPATCH',\n",
    "            'FOREST','THICK FOREST','BLASTED TREE','CORNER OF HOUSE','ENTRANCE TO KITCHEN',\n",
    "            'KITCHEN & GRIMY COOKER','SCULLERY DOOR','ROOM WITH INCHES OF DUST','REAR TURRET ROOM',\n",
    "            'CLEARING BY HOUSE','PATH','SIDE OF HOUSE','BACK OF HALLWAY','DARK ALCOVE','SMALL DARK ROOM',\n",
    "            'BOTTOM OF SPIRAL STAIRCASE','WIDE PASSAGE','SLIPPERY STEPS','CLIFFTOP','NEAR CRUMBLING WALL',\n",
    "            'GLOOMY PASSAGE','POOL OF LIGHT','IMPRESSIVE VAULTED HALLWAY','HALL BY THICK WOODEN DOOR',\n",
    "            'TROPHY ROOM','CELLAR WITH BARRED WINDOW','CLIFF PATH','CUPBOARD WITH HANGING COAT','FRONT HALL',\n",
    "            'SITTING ROOM','SECRET ROOM','STEEP MARBLE STAIRS','DINING ROOM','DEEP CELLAR WITH COFFIN',\n",
    "            'CLIFF PATH','CLOSET','FRONT LOBBY','LIBRARY OF EVIL BOOKS','STUDY WITH DESK & HOLE IN WALL',\n",
    "            'WEIRD COBWEBBY ROOM','VERY COLD CHAMBER','SPOOKY ROOM','CLIFF PATH BY MARSH',\n",
    "            'RUBBLE-STREWN VERANDAH','FRONT PORCH','FRONT TOWER','SLOPING CORRIDOR','UPPER GALLERY',\n",
    "            'MARSH BY WALL','MARSH','SOGGY PATH','BY TWISTED RAILING','PATH THROUGH IRON GATE','BY RAILINGS',\n",
    "            'BENEATH FRON TOWER','DEBRIS FROM CURMBLING FACADE','LARGE FALLEN BRICKWORK','ROTTING STONE ARCH',\n",
    "            'CRUMBLING CLIFFTOP']\n",
    "    for i in range(0,64): #again, original was 63\n",
    "        d[i] = data[i]\n",
    "    #objects\n",
    "    data = ['','PAINTING','RING','MAGIC SPELLS','GOBLET','SCROLL','COINS','STATUE','CANDLESTICK','MATCHES',\n",
    "            'VACUUM','BATTERIES','SHOVEL','AXE','ROPE','BOAT','AEROSOL','CANDLE','KEY','NORTH','SOUTH',\n",
    "            'WEST','EAST','UP','DOWN','DOOR','BATS','GHOSTS','DRAWER','DESK','COAT','RUBBISH','COFFIN',\n",
    "            'BOOKS','XZANFAR','WALL','SPELLS'] #Added blank at the start - BASIC indexing!\n",
    "    #fill up the objects list\n",
    "    for i in range(1,w_+1): #+1 - BASIC indexing\n",
    "        o[i] = data[i]\n",
    "    f[18],f[17],f[2],f[26],f[28],f[23]=1,1,1,1,1,1\n",
    "    ll=60\n",
    "    rm=57 #Location index of the player\n",
    "    m='OK'\n",
    "    return #Not really needed in Python - but for now we're staying true! \n",
    "    #looks like it 'returns' to the start of description and feedback"
   ]
  },
  {
   "cell_type": "code",
   "execution_count": null,
   "metadata": {},
   "outputs": [],
   "source": [
    "'''\n",
    "Main Program Call\n",
    "In the original program this corresponds to lines 70+80\n",
    "to declare variables and GOSUB the initialisation routine\n",
    "''' \n",
    "#Initialise variables - these should be constants really!\n",
    "v_ = 25 #Number of verbs - originally V and V$ seen as different - this is V (number)\n",
    "w_ = 36 #Number of object words - originally W and W$ seen as different - this is W (number)\n",
    "g = 18 #Number of 'gettable object'\n",
    "initialisation() #Call initialisation function - originally GOSUB 1600\n",
    "descriptionAndFeedback() #Call descriptionAndFeedback function - actually it just 'runs on' to this code.\n",
    "inputAndInputAnalysis() #Call inputAndInputAnalysis function - again it just 'runs on' to it."
   ]
  },
  {
   "cell_type": "code",
   "execution_count": null,
   "metadata": {},
   "outputs": [],
   "source": []
  },
  {
   "cell_type": "code",
   "execution_count": null,
   "metadata": {},
   "outputs": [],
   "source": []
  },
  {
   "cell_type": "code",
   "execution_count": null,
   "metadata": {},
   "outputs": [],
   "source": []
  }
 ],
 "metadata": {
  "kernelspec": {
   "display_name": "Python 3",
   "language": "python",
   "name": "python3"
  },
  "language_info": {
   "codemirror_mode": {
    "name": "ipython",
    "version": 3
   },
   "file_extension": ".py",
   "mimetype": "text/x-python",
   "name": "python",
   "nbconvert_exporter": "python",
   "pygments_lexer": "ipython3",
   "version": "3.7.1"
  }
 },
 "nbformat": 4,
 "nbformat_minor": 2
}
